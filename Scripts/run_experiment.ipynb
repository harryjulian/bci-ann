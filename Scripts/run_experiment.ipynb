{
 "cells": [
  {
   "cell_type": "code",
   "execution_count": 15,
   "metadata": {},
   "outputs": [],
   "source": [
    "# Imports\n",
    "import numpy as np\n"
   ]
  },
  {
   "cell_type": "code",
   "execution_count": 16,
   "metadata": {},
   "outputs": [],
   "source": [
    "\n",
    "# Set Save Variables\n",
    "\n",
    "global home_dir, save_dir\n",
    "home_dir = \"/Users/HarryJulian/Documents/bci-ann\"\n",
    "save_dir = home_dir + \"/Data\"\n",
    "\n",
    "# Set Stimulus Variables\n",
    "\n",
    "array_length = 100\n",
    "spread = 1\n",
    "n_locations = 5\n",
    "variance_conditions = [0, 1, 2, 3]\n",
    "\n",
    "# Set Neural Network Params\n",
    "\n",
    "epochs = None\n",
    "batch_size = None\n",
    "learning_rate = None\n",
    "momentum = None # Used for RNNs\n",
    "\n",
    "# Set Experimental Params\n",
    "\n",
    "train_size = None\n",
    "test_size = None"
   ]
  },
  {
   "cell_type": "code",
   "execution_count": null,
   "metadata": {},
   "outputs": [],
   "source": [
    "# Run Experiments"
   ]
  }
 ],
 "metadata": {
  "interpreter": {
   "hash": "aee8b7b246df8f9039afb4144a1f6fd8d2ca17a180786b69acc140d282b71a49"
  },
  "kernelspec": {
   "display_name": "Python 3.10.4 64-bit",
   "language": "python",
   "name": "python3"
  },
  "language_info": {
   "codemirror_mode": {
    "name": "ipython",
    "version": 3
   },
   "file_extension": ".py",
   "mimetype": "text/x-python",
   "name": "python",
   "nbconvert_exporter": "python",
   "pygments_lexer": "ipython3",
   "version": "3.10.4"
  },
  "orig_nbformat": 4
 },
 "nbformat": 4,
 "nbformat_minor": 2
}
