{
 "cells": [
  {
   "cell_type": "code",
   "execution_count": 1,
   "metadata": {},
   "outputs": [
    {
     "name": "stdout",
     "output_type": "stream",
     "text": [
      "[7714, 2160, 126, 0, 0] 10000 [0.62745098 0.29411765 0.05882353 0.00980392 0.00980392] 1.0\n",
      "-740.2853888075624\n",
      "[2322, 5444, 2117, 117, 0] 10000 [0.15686275 0.59803922 0.2254902  0.00980392 0.00980392] 0.9999999999999999\n",
      "-298.7977601115126\n",
      "[124, 2080, 5524, 2166, 106] 10000 [0.00980392 0.14705882 0.73529412 0.09803922 0.00980392] 0.9999999999999999\n",
      "-911.4363766887254\n",
      "[0, 115, 2105, 5480, 2300] 10000 [0.00980392 0.00980392 0.5        0.47058824 0.00980392] 1.0\n",
      "-6301.534754821347\n",
      "[0, 1, 119, 2119, 7761] 10000 [0.00980392 0.00980392 0.04901961 0.74509804 0.18627451] 1.0\n",
      "-8246.857969724355\n",
      "[7689, 2184, 126, 1, 0] 10000 [0.14705882 0.81372549 0.01960784 0.00980392 0.00980392] 1.0\n",
      "-9794.65132174379\n",
      "[2257, 5486, 2110, 146, 1] 10000 [0.00970874 0.72815534 0.24271845 0.00970874 0.00970874] 1.0\n",
      "-5320.732721547218\n",
      "[126, 2078, 5424, 2259, 113] 10000 [0.00990099 0.25742574 0.63366337 0.08910891 0.00990099] 1.0\n",
      "-874.0163737828552\n",
      "[1, 128, 2125, 5525, 2221] 10000 [0.00980392 0.00980392 0.41176471 0.54901961 0.01960784] 1.0\n",
      "-4063.1299910015805\n",
      "[0, 1, 108, 2196, 7695] 10000 [0.00980392 0.00980392 0.01960784 0.65686275 0.30392157] 1.0\n",
      "-4682.249624024\n",
      "[7735, 2150, 115, 0, 0] 10000 [0.2254902  0.69607843 0.05882353 0.00980392 0.00980392] 0.9999999999999999\n",
      "-6828.884541025152\n",
      "[2247, 5485, 2156, 110, 2] 10000 [0.00970874 0.41747573 0.55339806 0.00970874 0.00970874] 1.0\n",
      "-6544.102460843773\n",
      "[133, 2065, 5477, 2204, 121] 10000 [0.00980392 0.02941176 0.91176471 0.03921569 0.00980392] 0.9999999999999999\n",
      "-5119.935581155805\n",
      "[1, 145, 2100, 5485, 2269] 10000 [0.00980392 0.00980392 0.48039216 0.45098039 0.04901961] 1.0\n",
      "-2878.582806720442\n",
      "[0, 0, 124, 2138, 7738] 10000 [0.00980392 0.00980392 0.05882353 0.6372549  0.28431373] 0.9999999999999999\n",
      "-5227.491810645035\n",
      "[7754, 2132, 113, 1, 0] 10000 [0.26470588 0.64705882 0.06862745 0.00980392 0.00980392] 1.0\n",
      "-5767.209017449073\n",
      "[2216, 5471, 2183, 128, 2] 10000 [0.02941176 0.52941176 0.42156863 0.00980392 0.00980392] 1.0\n",
      "-3258.544817500544\n",
      "[108, 2136, 5500, 2131, 125] 10000 [0.00990099 0.08910891 0.57425743 0.31683168 0.00990099] 1.0\n",
      "-839.1599561034964\n",
      "[0, 140, 2124, 5540, 2196] 10000 [0.00970874 0.00970874 0.17475728 0.7961165  0.00970874] 1.0\n",
      "-5318.336733797216\n",
      "[0, 0, 113, 2178, 7709] 10000 [0.00970874 0.00970874 0.00970874 0.84466019 0.12621359] 1.0\n",
      "-11023.173554519264\n",
      "[7700, 2175, 122, 3, 0] 10000 [0.21568627 0.69607843 0.06862745 0.00980392 0.00980392] 0.9999999999999999\n",
      "-7056.919656983038\n",
      "[2215, 5497, 2158, 128, 2] 10000 [0.00970874 0.5631068  0.40776699 0.00970874 0.00970874] 1.0\n",
      "-5462.991491513341\n",
      "[118, 2138, 5536, 2072, 136] 10000 [0.00990099 0.08910891 0.73267327 0.15841584 0.00990099] 1.0\n",
      "-955.6355112143647\n",
      "[1, 136, 2190, 5418, 2255] 10000 [0.00980392 0.00980392 0.21568627 0.54901961 0.21568627] 1.0\n",
      "-115.54738542693667\n",
      "[0, 1, 115, 2188, 7696] 10000 [0.00980392 0.00980392 0.01960784 0.18627451 0.7745098 ] 1.0\n",
      "-246.16541973652784\n"
     ]
    },
    {
     "data": {
      "text/plain": [
       "-107876.37302688695"
      ]
     },
     "execution_count": 1,
     "metadata": {},
     "output_type": "execute_result"
    }
   ],
   "source": [
    "import numpy as np\n",
    "import numpy.matlib as ml\n",
    "import numba\n",
    "import matplotlib.pyplot as plt\n",
    "from bcimodel import get_conditions, bciobjective\n",
    "from test import simulate_data\n",
    "N = 10000\n",
    "pCommon, sigV, sigA, sigP = 0.27, 2, 8, 10\n",
    "varV, varA, varP = sigV**2, sigA**2, sigP**2\n",
    "possible_locations = np.array([-24,-12,0,12,24])\n",
    "variance_conditions = [8]\n",
    "conditions = get_conditions(possible_locations, variance_conditions)\n",
    "data = simulate_data(possible_locations, variance_conditions)\n",
    "pars = [pCommon, sigV, sigA, sigP, data, conditions, possible_locations, 100]\n",
    "bciobjective(pars)"
   ]
  },
  {
   "cell_type": "code",
   "execution_count": 3,
   "metadata": {},
   "outputs": [],
   "source": [
    "N = 10000\n",
    "pCommon, sigV, sigA, sigP = 0.27, 1, 1, 10\n",
    "varV, varA, varP = sigV**2, sigA**2, sigP**2\n",
    "vloc, aloc = 24, 24"
   ]
  },
  {
   "cell_type": "code",
   "execution_count": 6,
   "metadata": {},
   "outputs": [
    {
     "data": {
      "text/plain": [
       "array(-17.11829119)"
      ]
     },
     "execution_count": 6,
     "metadata": {},
     "output_type": "execute_result"
    }
   ],
   "source": [
    "from scipy.stats import multinomial\n",
    "multinomial.logpmf(np.array([10, 10, 10, 10, 10]), 50, np.array([0.1, 0.1, 0.1, 0.35, 0.35]))"
   ]
  },
  {
   "cell_type": "code",
   "execution_count": 5,
   "metadata": {},
   "outputs": [
    {
     "name": "stdout",
     "output_type": "stream",
     "text": [
      "[[8790, 1208, 2, 0, 0], [7707, 2156, 136, 1, 0]] 20000\n",
      "[[8851, 1148, 1, 0, 0], [2237, 5511, 2123, 129, 0]] 20000\n",
      "[[8839, 1159, 2, 0, 0], [134, 2130, 5574, 2050, 112]] 20000\n",
      "[[8849, 1150, 1, 0, 0], [1, 115, 2156, 5497, 2231]] 20000\n",
      "[[8873, 1124, 3, 0, 0], [0, 0, 133, 2166, 7701]] 20000\n",
      "[[1126, 7705, 1168, 1, 0], [7679, 2192, 128, 1, 0]] 20000\n",
      "[[1121, 7706, 1171, 2, 0], [2382, 5331, 2159, 127, 1]] 20000\n",
      "[[1209, 7678, 1112, 1, 0], [124, 2152, 5485, 2142, 97]] 20000\n",
      "[[1189, 7695, 1114, 2, 0], [1, 116, 2081, 5551, 2251]] 20000\n",
      "[[1099, 7724, 1175, 2, 0], [0, 1, 120, 2175, 7704]] 20000\n",
      "[[4, 1161, 7717, 1117, 1], [7727, 2142, 130, 1, 0]] 20000\n",
      "[[2, 1119, 7734, 1142, 3], [2242, 5536, 2109, 111, 2]] 20000\n",
      "[[1, 1152, 7685, 1162, 0], [121, 2136, 5463, 2174, 106]] 20000\n",
      "[[2, 1131, 7746, 1120, 1], [1, 134, 2128, 5505, 2232]] 20000\n",
      "[[2, 1139, 7728, 1131, 0], [0, 4, 144, 2133, 7719]] 20000\n",
      "[[0, 1, 1134, 7727, 1138], [7709, 2176, 114, 1, 0]] 20000\n",
      "[[0, 1, 1155, 7760, 1084], [2276, 5477, 2114, 132, 1]] 20000\n",
      "[[0, 0, 1151, 7703, 1146], [129, 2136, 5412, 2180, 143]] 20000\n",
      "[[0, 0, 1199, 7644, 1157], [0, 126, 2158, 5447, 2269]] 20000\n",
      "[[0, 0, 1237, 7625, 1138], [0, 0, 115, 2168, 7717]] 20000\n",
      "[[0, 0, 2, 1122, 8876], [7745, 2135, 118, 2, 0]] 20000\n",
      "[[0, 0, 6, 1147, 8847], [2300, 5421, 2158, 120, 1]] 20000\n",
      "[[0, 0, 0, 1201, 8799], [117, 2219, 5450, 2085, 129]] 20000\n",
      "[[0, 0, 1, 1167, 8832], [2, 117, 2129, 5473, 2279]] 20000\n",
      "[[0, 0, 1, 1091, 8908], [0, 2, 121, 2024, 7853]] 20000\n"
     ]
    },
    {
     "data": {
      "text/plain": [
       "nan"
      ]
     },
     "execution_count": 5,
     "metadata": {},
     "output_type": "execute_result"
    }
   ],
   "source": [
    "possible_locations = np.array([-24,-12,0,12,24])\n",
    "variance_conditions = [8]\n",
    "conditions = get_conditions(possible_locations, variance_conditions)\n",
    "data = simulate_data(possible_locations, variance_conditions)\n",
    "pars = [pCommon, sigV, sigA, sigP, data, conditions, possible_locations, 100]\n",
    "bciobjective(pars)"
   ]
  },
  {
   "cell_type": "code",
   "execution_count": 8,
   "metadata": {},
   "outputs": [
    {
     "data": {
      "text/plain": [
       "array([1.e+00, 2.e+00, 3.e+00, 1.e-03])"
      ]
     },
     "execution_count": 8,
     "metadata": {},
     "output_type": "execute_result"
    }
   ],
   "source": [
    "def clip(arr, roundup = 0.001): \n",
    "    arr = np.clip(arr, 0.001, np.inf)\n",
    "    return arr\n",
    "\n",
    "clip(np.array([1, 2, 3, 0]))"
   ]
  },
  {
   "cell_type": "code",
   "execution_count": 13,
   "metadata": {},
   "outputs": [],
   "source": [
    "import numpy as np\n",
    "def clip(arr, roundup = 0.001): # numpyify this function\n",
    "    \n",
    "    def clipper(x):\n",
    "        for i in range(len(x)):\n",
    "            if x[i] == 0:\n",
    "                x[i] += roundup\n",
    "                print(x[i])\n",
    "            return x\n",
    "        \n",
    "    return np.apply_along_axis(clipper, 0, arr)"
   ]
  },
  {
   "cell_type": "code",
   "execution_count": 14,
   "metadata": {},
   "outputs": [
    {
     "name": "stdout",
     "output_type": "stream",
     "text": [
      "0\n",
      "[ 0  0  0 23 42 51]\n"
     ]
    }
   ],
   "source": [
    "arr = clip(np.array([0, 0, 0, 23, 42, 51]))\n",
    "print(arr)"
   ]
  },
  {
   "cell_type": "code",
   "execution_count": 113,
   "metadata": {},
   "outputs": [],
   "source": [
    "def clip(arr, roundup = 0.001):\n",
    "    arr = np.clip(arr, 0.001, np.inf)\n",
    "    return arr"
   ]
  },
  {
   "cell_type": "code",
   "execution_count": 68,
   "metadata": {},
   "outputs": [],
   "source": [
    "del arr"
   ]
  },
  {
   "cell_type": "code",
   "execution_count": 115,
   "metadata": {},
   "outputs": [
    {
     "data": {
      "text/plain": [
       "44.0"
      ]
     },
     "execution_count": 115,
     "metadata": {},
     "output_type": "execute_result"
    }
   ],
   "source": [
    "arr7 = np.array([0, 0, 0, 44, 55])\n",
    "arr2 = clip(arr7)\n",
    "arr2[3]"
   ]
  },
  {
   "cell_type": "code",
   "execution_count": 85,
   "metadata": {},
   "outputs": [
    {
     "data": {
      "text/plain": [
       "NoneType"
      ]
     },
     "execution_count": 85,
     "metadata": {},
     "output_type": "execute_result"
    }
   ],
   "source": [
    "type(arr2)"
   ]
  },
  {
   "cell_type": "code",
   "execution_count": 82,
   "metadata": {},
   "outputs": [],
   "source": [
    "arr2"
   ]
  },
  {
   "cell_type": "code",
   "execution_count": 58,
   "metadata": {},
   "outputs": [
    {
     "data": {
      "text/plain": [
       "array([ 0,  0,  0, 23, 42, 51])"
      ]
     },
     "execution_count": 58,
     "metadata": {},
     "output_type": "execute_result"
    }
   ],
   "source": [
    "arr"
   ]
  },
  {
   "cell_type": "code",
   "execution_count": 124,
   "metadata": {},
   "outputs": [
    {
     "data": {
      "text/plain": [
       "(array([ 5,  6, 66]), array([4, 4, 1]))"
      ]
     },
     "execution_count": 124,
     "metadata": {},
     "output_type": "execute_result"
    }
   ],
   "source": [
    "x = np.array([5,5,5,5,6,6,6,6,66])\n",
    "unique, counts = np.unique(x, return_counts = True)\n"
   ]
  },
  {
   "cell_type": "code",
   "execution_count": 129,
   "metadata": {},
   "outputs": [
    {
     "data": {
      "text/plain": [
       "array([4, 4, 1])"
      ]
     },
     "execution_count": 129,
     "metadata": {},
     "output_type": "execute_result"
    }
   ],
   "source": [
    "def counter(arr, possible_locations):\n",
    "    init_counts = np.zeros([5,])\n",
    "    poss_arr = np.stack((possible_locations, init_counts), axis = 0)\n",
    "    counts = np.asarray(np.unique(arr, return_counts = True))\n",
    "    indices = np.where(np.in1d(poss_locs, counts))[0]\n",
    "    # so we have the indices of the values we want in the counts array\n",
    "\n",
    "    return counts\n",
    "\n",
    "def counter2(binned, possible_locations): # base this on numpy too\n",
    "    return [binned.count(bvc) for bvc in possible_locations]\n",
    "\n",
    "counter(x)"
   ]
  },
  {
   "cell_type": "code",
   "execution_count": 172,
   "metadata": {},
   "outputs": [
    {
     "name": "stdout",
     "output_type": "stream",
     "text": [
      "[[1. 2. 3. 4. 5.]\n",
      " [0. 0. 0. 0. 0.]]\n",
      "[[4]\n",
      " [7]]\n",
      "[3]\n"
     ]
    }
   ],
   "source": [
    "arr = np.array([4,4,4,4,4,4,4])\n",
    "poss_locs, init_counts = np.array([1,2,3,4,5]), np.zeros([5,])\n",
    "poss_arr = np.stack((poss_locs, init_counts), axis = 0)\n",
    "counts = np.asarray(np.unique(arr, return_counts = True))\n",
    "indices = np.where(np.in1d(poss_locs, counts))[0]\n",
    "print(poss_arr)\n",
    "print(counts)\n",
    "print(indices)\n",
    "# so then at index three of poss_arr[1]\n",
    "# change to count value "
   ]
  },
  {
   "cell_type": "code",
   "execution_count": 176,
   "metadata": {},
   "outputs": [],
   "source": []
  },
  {
   "cell_type": "code",
   "execution_count": 177,
   "metadata": {},
   "outputs": [
    {
     "data": {
      "text/plain": [
       "array([1, 1, 1, 1, 1])"
      ]
     },
     "execution_count": 177,
     "metadata": {},
     "output_type": "execute_result"
    }
   ],
   "source": [
    "arr = np.array([1,2,3,4,5])\n",
    "poss = np.array([1,2,3,4,5])\n",
    "counter(arr, poss)"
   ]
  }
 ],
 "metadata": {
  "interpreter": {
   "hash": "aee8b7b246df8f9039afb4144a1f6fd8d2ca17a180786b69acc140d282b71a49"
  },
  "kernelspec": {
   "display_name": "Python 3.10.4 64-bit",
   "language": "python",
   "name": "python3"
  },
  "language_info": {
   "codemirror_mode": {
    "name": "ipython",
    "version": 3
   },
   "file_extension": ".py",
   "mimetype": "text/x-python",
   "name": "python",
   "nbconvert_exporter": "python",
   "pygments_lexer": "ipython3",
   "version": "3.10.4"
  },
  "orig_nbformat": 4
 },
 "nbformat": 4,
 "nbformat_minor": 2
}
