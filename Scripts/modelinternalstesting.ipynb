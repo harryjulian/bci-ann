{
 "cells": [
  {
   "cell_type": "code",
   "execution_count": 4,
   "metadata": {},
   "outputs": [],
   "source": [
    "import numpy as np\n",
    "import numpy.matlib as ml\n",
    "import numba\n",
    "import matplotlib.pyplot as plt"
   ]
  },
  {
   "cell_type": "code",
   "execution_count": 6,
   "metadata": {},
   "outputs": [],
   "source": [
    "from test import simulate_data"
   ]
  },
  {
   "cell_type": "code",
   "execution_count": 7,
   "metadata": {},
   "outputs": [],
   "source": [
    "N = 10000\n",
    "pCommon, sigV, sigA, sigP = 0.27, 1, 1, 10\n",
    "varV, varA, varP = sigV**2, sigA**2, sigP**2\n",
    "vloc, aloc = 24, 24"
   ]
  },
  {
   "cell_type": "code",
   "execution_count": 8,
   "metadata": {},
   "outputs": [],
   "source": [
    "from bcimodel import get_conditions, bciobjective"
   ]
  },
  {
   "cell_type": "code",
   "execution_count": 9,
   "metadata": {},
   "outputs": [
    {
     "name": "stdout",
     "output_type": "stream",
     "text": [
      "[array([0.01]), array([0.01]), array([0.01]), array([0.01]), array([0.01]), array([0.01]), array([0.01]), array([0.01]), array([0.01]), array([0.01]), array([0.01]), array([0.01]), array([0.01]), array([0.01]), array([0.01]), array([0.01]), array([0.01]), array([0.01]), array([0.01]), array([0.01]), array([0.01]), array([0.01]), array([0.01]), array([0.01]), array([0.01]), array([0.01]), array([0.01]), array([0.01]), array([0.01]), array([0.01]), array([0.01]), array([0.01]), array([0.01]), array([0.01]), array([0.01]), array([0.01]), array([0.01]), array([0.01]), array([0.01]), array([0.01]), array([0.01]), array([0.01]), array([0.01]), array([0.01]), array([0.01]), array([0.01]), array([0.01]), array([0.01]), array([0.01]), array([0.01]), array([0.01]), array([0.01]), array([0.01]), array([0.01]), array([0.01]), array([0.01]), array([0.01]), array([0.01]), array([0.01]), array([0.01]), array([0.01]), array([0.01]), array([0.01]), array([0.01]), array([0.01]), array([0.01]), array([0.01]), array([0.01]), array([0.01]), array([0.01]), array([0.01]), array([0.01]), array([0.01]), array([0.01]), array([0.01]), array([0.01]), array([0.01]), array([0.01]), array([0.01]), array([0.01]), array([0.01]), array([0.01]), array([0.01]), array([0.01]), array([0.01]), array([0.01]), array([0.01]), array([0.01]), array([0.01]), array([0.01]), array([0.01]), array([0.01]), array([0.01]), array([0.01]), array([0.01]), array([0.01]), array([0.01]), array([0.01]), array([0.01]), array([0.01])]\n",
      "[array([0.01]), array([0.01]), array([0.01]), array([0.01]), array([0.01]), array([0.01]), array([0.01]), array([0.01]), array([0.01]), array([0.01]), array([0.01]), array([0.01]), array([0.01]), array([0.01]), array([0.01]), array([0.01]), array([0.01]), array([0.01]), array([0.01]), array([0.01]), array([0.01]), array([0.01]), array([0.01]), array([0.01]), array([0.01]), array([0.01]), array([0.01]), array([0.01]), array([0.01]), array([0.01]), array([0.01]), array([0.01]), array([0.01]), array([0.01]), array([0.01]), array([0.01]), array([0.01]), array([0.01]), array([0.01]), array([0.01]), array([0.01]), array([0.01]), array([0.01]), array([0.01]), array([0.01]), array([0.01]), array([0.01]), array([0.01]), array([0.01]), array([0.01]), array([0.01]), array([0.01]), array([0.01]), array([0.01]), array([0.01]), array([0.01]), array([0.01]), array([0.01]), array([0.01]), array([0.01]), array([0.01]), array([0.01]), array([0.01]), array([0.01]), array([0.01]), array([0.01]), array([0.01]), array([0.01]), array([0.01]), array([0.01]), array([0.01]), array([0.01]), array([0.01]), array([0.01]), array([0.01]), array([0.01]), array([0.01]), array([0.01]), array([0.01]), array([0.01]), array([0.01]), array([0.01]), array([0.01]), array([0.01]), array([0.01]), array([0.01]), array([0.01]), array([0.01]), array([0.01]), array([0.01]), array([0.01]), array([0.01]), array([0.01]), array([0.01]), array([0.01]), array([0.01]), array([0.01]), array([0.01]), array([0.01]), array([0.01])]\n",
      "[array([0.01]), array([0.01]), array([0.01]), array([0.01]), array([0.01]), array([0.01]), array([0.01]), array([0.01]), array([0.01]), array([0.01]), array([0.01]), array([0.01]), array([0.01]), array([0.01]), array([0.01]), array([0.01]), array([0.01]), array([0.01]), array([0.01]), array([0.01]), array([0.01]), array([0.01]), array([0.01]), array([0.01]), array([0.01]), array([0.01]), array([0.01]), array([0.01]), array([0.01]), array([0.01]), array([0.01]), array([0.01]), array([0.01]), array([0.01]), array([0.01]), array([0.01]), array([0.01]), array([0.01]), array([0.01]), array([0.01]), array([0.01]), array([0.01]), array([0.01]), array([0.01]), array([0.01]), array([0.01]), array([0.01]), array([0.01]), array([0.01]), array([0.01]), array([0.01]), array([0.01]), array([0.01]), array([0.01]), array([0.01]), array([0.01]), array([0.01]), array([0.01]), array([0.01]), array([0.01]), array([0.01]), array([0.01]), array([0.01]), array([0.01]), array([0.01]), array([0.01]), array([0.01]), array([0.01]), array([0.01]), array([0.01]), array([0.01]), array([0.01]), array([0.01]), array([0.01]), array([0.01]), array([0.01]), array([0.01]), array([0.01]), array([0.01]), array([0.01]), array([0.01]), array([0.01]), array([0.01]), array([0.01]), array([0.01]), array([0.01]), array([0.01]), array([0.01]), array([0.01]), array([0.01]), array([0.01]), array([0.01]), array([0.01]), array([0.01]), array([0.01]), array([0.01]), array([0.01]), array([0.01]), array([0.01]), array([0.01])]\n",
      "[array([0.01]), array([0.01]), array([0.01]), array([0.01]), array([0.01]), array([0.01]), array([0.01]), array([0.01]), array([0.01]), array([0.01]), array([0.01]), array([0.01]), array([0.01]), array([0.01]), array([0.01]), array([0.01]), array([0.01]), array([0.01]), array([0.01]), array([0.01]), array([0.01]), array([0.01]), array([0.01]), array([0.01]), array([0.01]), array([0.01]), array([0.01]), array([0.01]), array([0.01]), array([0.01]), array([0.01]), array([0.01]), array([0.01]), array([0.01]), array([0.01]), array([0.01]), array([0.01]), array([0.01]), array([0.01]), array([0.01]), array([0.01]), array([0.01]), array([0.01]), array([0.01]), array([0.01]), array([0.01]), array([0.01]), array([0.01]), array([0.01]), array([0.01]), array([0.01]), array([0.01]), array([0.01]), array([0.01]), array([0.01]), array([0.01]), array([0.01]), array([0.01]), array([0.01]), array([0.01]), array([0.01]), array([0.01]), array([0.01]), array([0.01]), array([0.01]), array([0.01]), array([0.01]), array([0.01]), array([0.01]), array([0.01]), array([0.01]), array([0.01]), array([0.01]), array([0.01]), array([0.01]), array([0.01]), array([0.01]), array([0.01]), array([0.01]), array([0.01]), array([0.01]), array([0.01]), array([0.01]), array([0.01]), array([0.01]), array([0.01]), array([0.01]), array([0.01]), array([0.01]), array([0.01]), array([0.01]), array([0.01]), array([0.01]), array([0.01]), array([0.01]), array([0.01]), array([0.01]), array([0.01]), array([0.01]), array([0.01])]\n",
      "[array([0.01]), array([0.01]), array([0.01]), array([0.01]), array([0.01]), array([0.01]), array([0.01]), array([0.01]), array([0.01]), array([0.01]), array([0.01]), array([0.01]), array([0.01]), array([0.01]), array([0.01]), array([0.01]), array([0.01]), array([0.01]), array([0.01]), array([0.01]), array([0.01]), array([0.01]), array([0.01]), array([0.01]), array([0.01]), array([0.01]), array([0.01]), array([0.01]), array([0.01]), array([0.01]), array([0.01]), array([0.01]), array([0.01]), array([0.01]), array([0.01]), array([0.01]), array([0.01]), array([0.01]), array([0.01]), array([0.01]), array([0.01]), array([0.01]), array([0.01]), array([0.01]), array([0.01]), array([0.01]), array([0.01]), array([0.01]), array([0.01]), array([0.01]), array([0.01]), array([0.01]), array([0.01]), array([0.01]), array([0.01]), array([0.01]), array([0.01]), array([0.01]), array([0.01]), array([0.01]), array([0.01]), array([0.01]), array([0.01]), array([0.01]), array([0.01]), array([0.01]), array([0.01]), array([0.01]), array([0.01]), array([0.01]), array([0.01]), array([0.01]), array([0.01]), array([0.01]), array([0.01]), array([0.01]), array([0.01]), array([0.01]), array([0.01]), array([0.01]), array([0.01]), array([0.01]), array([0.01]), array([0.01]), array([0.01]), array([0.01]), array([0.01]), array([0.01]), array([0.01]), array([0.01]), array([0.01]), array([0.01]), array([0.01]), array([0.01]), array([0.01]), array([0.01]), array([0.01]), array([0.01]), array([0.01]), array([0.01])]\n",
      "[array([0.01]), array([0.01]), array([0.01]), array([0.01]), array([0.01]), array([0.01]), array([0.01]), array([0.01]), array([0.01]), array([0.01]), array([0.01]), array([0.01]), array([0.01]), array([0.01]), array([0.01]), array([0.01]), array([0.01]), array([0.01]), array([0.01]), array([0.01]), array([0.01]), array([0.01]), array([0.01]), array([0.01]), array([0.01]), array([0.01]), array([0.01]), array([0.01]), array([0.01]), array([0.01]), array([0.01]), array([0.01]), array([0.01]), array([0.01]), array([0.01]), array([0.01]), array([0.01]), array([0.01]), array([0.01]), array([0.01]), array([0.01]), array([0.01]), array([0.01]), array([0.01]), array([0.01]), array([0.01]), array([0.01]), array([0.01]), array([0.01]), array([0.01]), array([0.01]), array([0.01]), array([0.01]), array([0.01]), array([0.01]), array([0.01]), array([0.01]), array([0.01]), array([0.01]), array([0.01]), array([0.01]), array([0.01]), array([0.01]), array([0.01]), array([0.01]), array([0.01]), array([0.01]), array([0.01]), array([0.01]), array([0.01]), array([0.01]), array([0.01]), array([0.01]), array([0.01]), array([0.01]), array([0.01]), array([0.01]), array([0.01]), array([0.01]), array([0.01]), array([0.01]), array([0.01]), array([0.01]), array([0.01]), array([0.01]), array([0.01]), array([0.01]), array([0.01]), array([0.01]), array([0.01]), array([0.01]), array([0.01]), array([0.01]), array([0.01]), array([0.01]), array([0.01]), array([0.01]), array([0.01]), array([0.01]), array([0.01])]\n",
      "[array([0.01]), array([0.01]), array([0.01]), array([0.01]), array([0.01]), array([0.01]), array([0.01]), array([0.01]), array([0.01]), array([0.01]), array([0.01]), array([0.01]), array([0.01]), array([0.01]), array([0.01]), array([0.01]), array([0.01]), array([0.01]), array([0.01]), array([0.01]), array([0.01]), array([0.01]), array([0.01]), array([0.01]), array([0.01]), array([0.01]), array([0.01]), array([0.01]), array([0.01]), array([0.01]), array([0.01]), array([0.01]), array([0.01]), array([0.01]), array([0.01]), array([0.01]), array([0.01]), array([0.01]), array([0.01]), array([0.01]), array([0.01]), array([0.01]), array([0.01]), array([0.01]), array([0.01]), array([0.01]), array([0.01]), array([0.01]), array([0.01]), array([0.01]), array([0.01]), array([0.01]), array([0.01]), array([0.01]), array([0.01]), array([0.01]), array([0.01]), array([0.01]), array([0.01]), array([0.01]), array([0.01]), array([0.01]), array([0.01]), array([0.01]), array([0.01]), array([0.01]), array([0.01]), array([0.01]), array([0.01]), array([0.01]), array([0.01]), array([0.01]), array([0.01]), array([0.01]), array([0.01]), array([0.01]), array([0.01]), array([0.01]), array([0.01]), array([0.01]), array([0.01]), array([0.01]), array([0.01]), array([0.01]), array([0.01]), array([0.01]), array([0.01]), array([0.01]), array([0.01]), array([0.01]), array([0.01]), array([0.01]), array([0.01]), array([0.01]), array([0.01]), array([0.01]), array([0.01]), array([0.01]), array([0.01]), array([0.01])]\n",
      "[array([0.01]), array([0.01]), array([0.01]), array([0.01]), array([0.01]), array([0.01]), array([0.01]), array([0.01]), array([0.01]), array([0.01]), array([0.01]), array([0.01]), array([0.01]), array([0.01]), array([0.01]), array([0.01]), array([0.01]), array([0.01]), array([0.01]), array([0.01]), array([0.01]), array([0.01]), array([0.01]), array([0.01]), array([0.01]), array([0.01]), array([0.01]), array([0.01]), array([0.01]), array([0.01]), array([0.01]), array([0.01]), array([0.01]), array([0.01]), array([0.01]), array([0.01]), array([0.01]), array([0.01]), array([0.01]), array([0.01]), array([0.01]), array([0.01]), array([0.01]), array([0.01]), array([0.01]), array([0.01]), array([0.01]), array([0.01]), array([0.01]), array([0.01]), array([0.01]), array([0.01]), array([0.01]), array([0.01]), array([0.01]), array([0.01]), array([0.01]), array([0.01]), array([0.01]), array([0.01]), array([0.01]), array([0.01]), array([0.01]), array([0.01]), array([0.01]), array([0.01]), array([0.01]), array([0.01]), array([0.01]), array([0.01]), array([0.01]), array([0.01]), array([0.01]), array([0.01]), array([0.01]), array([0.01]), array([0.01]), array([0.01]), array([0.01]), array([0.01]), array([0.01]), array([0.01]), array([0.01]), array([0.01]), array([0.01]), array([0.01]), array([0.01]), array([0.01]), array([0.01]), array([0.01]), array([0.01]), array([0.01]), array([0.01]), array([0.01]), array([0.01]), array([0.01]), array([0.01]), array([0.01]), array([0.01]), array([0.01])]\n",
      "[array([0.01]), array([0.01]), array([0.01]), array([0.01]), array([0.01]), array([0.01]), array([0.01]), array([0.01]), array([0.01]), array([0.01]), array([0.01]), array([0.01]), array([0.01]), array([0.01]), array([0.01]), array([0.01]), array([0.01]), array([0.01]), array([0.01]), array([0.01]), array([0.01]), array([0.01]), array([0.01]), array([0.01]), array([0.01]), array([0.01]), array([0.01]), array([0.01]), array([0.01]), array([0.01]), array([0.01]), array([0.01]), array([0.01]), array([0.01]), array([0.01]), array([0.01]), array([0.01]), array([0.01]), array([0.01]), array([0.01]), array([0.01]), array([0.01]), array([0.01]), array([0.01]), array([0.01]), array([0.01]), array([0.01]), array([0.01]), array([0.01]), array([0.01]), array([0.01]), array([0.01]), array([0.01]), array([0.01]), array([0.01]), array([0.01]), array([0.01]), array([0.01]), array([0.01]), array([0.01]), array([0.01]), array([0.01]), array([0.01]), array([0.01]), array([0.01]), array([0.01]), array([0.01]), array([0.01]), array([0.01]), array([0.01]), array([0.01]), array([0.01]), array([0.01]), array([0.01]), array([0.01]), array([0.01]), array([0.01]), array([0.01]), array([0.01]), array([0.01]), array([0.01]), array([0.01]), array([0.01]), array([0.01]), array([0.01]), array([0.01]), array([0.01]), array([0.01]), array([0.01]), array([0.01]), array([0.01]), array([0.01]), array([0.01]), array([0.01]), array([0.01]), array([0.01]), array([0.01]), array([0.01]), array([0.01]), array([0.01])]\n",
      "[array([0.01]), array([0.01]), array([0.01]), array([0.01]), array([0.01]), array([0.01]), array([0.01]), array([0.01]), array([0.01]), array([0.01]), array([0.01]), array([0.01]), array([0.01]), array([0.01]), array([0.01]), array([0.01]), array([0.01]), array([0.01]), array([0.01]), array([0.01]), array([0.01]), array([0.01]), array([0.01]), array([0.01]), array([0.01]), array([0.01]), array([0.01]), array([0.01]), array([0.01]), array([0.01]), array([0.01]), array([0.01]), array([0.01]), array([0.01]), array([0.01]), array([0.01]), array([0.01]), array([0.01]), array([0.01]), array([0.01]), array([0.01]), array([0.01]), array([0.01]), array([0.01]), array([0.01]), array([0.01]), array([0.01]), array([0.01]), array([0.01]), array([0.01]), array([0.01]), array([0.01]), array([0.01]), array([0.01]), array([0.01]), array([0.01]), array([0.01]), array([0.01]), array([0.01]), array([0.01]), array([0.01]), array([0.01]), array([0.01]), array([0.01]), array([0.01]), array([0.01]), array([0.01]), array([0.01]), array([0.01]), array([0.01]), array([0.01]), array([0.01]), array([0.01]), array([0.01]), array([0.01]), array([0.01]), array([0.01]), array([0.01]), array([0.01]), array([0.01]), array([0.01]), array([0.01]), array([0.01]), array([0.01]), array([0.01]), array([0.01]), array([0.01]), array([0.01]), array([0.01]), array([0.01]), array([0.01]), array([0.01]), array([0.01]), array([0.01]), array([0.01]), array([0.01]), array([0.01]), array([0.01]), array([0.01]), array([0.01])]\n",
      "[array([0.01]), array([0.01]), array([0.01]), array([0.01]), array([0.01]), array([0.01]), array([0.01]), array([0.01]), array([0.01]), array([0.01]), array([0.01]), array([0.01]), array([0.01]), array([0.01]), array([0.01]), array([0.01]), array([0.01]), array([0.01]), array([0.01]), array([0.01]), array([0.01]), array([0.01]), array([0.01]), array([0.01]), array([0.01]), array([0.01]), array([0.01]), array([0.01]), array([0.01]), array([0.01]), array([0.01]), array([0.01]), array([0.01]), array([0.01]), array([0.01]), array([0.01]), array([0.01]), array([0.01]), array([0.01]), array([0.01]), array([0.01]), array([0.01]), array([0.01]), array([0.01]), array([0.01]), array([0.01]), array([0.01]), array([0.01]), array([0.01]), array([0.01]), array([0.01]), array([0.01]), array([0.01]), array([0.01]), array([0.01]), array([0.01]), array([0.01]), array([0.01]), array([0.01]), array([0.01]), array([0.01]), array([0.01]), array([0.01]), array([0.01]), array([0.01]), array([0.01]), array([0.01]), array([0.01]), array([0.01]), array([0.01]), array([0.01]), array([0.01]), array([0.01]), array([0.01]), array([0.01]), array([0.01]), array([0.01]), array([0.01]), array([0.01]), array([0.01]), array([0.01]), array([0.01]), array([0.01]), array([0.01]), array([0.01]), array([0.01]), array([0.01]), array([0.01]), array([0.01]), array([0.01]), array([0.01]), array([0.01]), array([0.01]), array([0.01]), array([0.01]), array([0.01]), array([0.01]), array([0.01]), array([0.01]), array([0.01])]\n",
      "[array([0.01]), array([0.01]), array([0.01]), array([0.01]), array([0.01]), array([0.01]), array([0.01]), array([0.01]), array([0.01]), array([0.01]), array([0.01]), array([0.01]), array([0.01]), array([0.01]), array([0.01]), array([0.01]), array([0.01]), array([0.01]), array([0.01]), array([0.01]), array([0.01]), array([0.01]), array([0.01]), array([0.01]), array([0.01]), array([0.01]), array([0.01]), array([0.01]), array([0.01]), array([0.01]), array([0.01]), array([0.01]), array([0.01]), array([0.01]), array([0.01]), array([0.01]), array([0.01]), array([0.01]), array([0.01]), array([0.01]), array([0.01]), array([0.01]), array([0.01]), array([0.01]), array([0.01]), array([0.01]), array([0.01]), array([0.01]), array([0.01]), array([0.01]), array([0.01]), array([0.01]), array([0.01]), array([0.01]), array([0.01]), array([0.01]), array([0.01]), array([0.01]), array([0.01]), array([0.01]), array([0.01]), array([0.01]), array([0.01]), array([0.01]), array([0.01]), array([0.01]), array([0.01]), array([0.01]), array([0.01]), array([0.01]), array([0.01]), array([0.01]), array([0.01]), array([0.01]), array([0.01]), array([0.01]), array([0.01]), array([0.01]), array([0.01]), array([0.01]), array([0.01]), array([0.01]), array([0.01]), array([0.01]), array([0.01]), array([0.01]), array([0.01]), array([0.01]), array([0.01]), array([0.01]), array([0.01]), array([0.01]), array([0.01]), array([0.01]), array([0.01]), array([0.01]), array([0.01]), array([0.01]), array([0.01]), array([0.01])]\n",
      "[array([0.01]), array([0.01]), array([0.01]), array([0.01]), array([0.01]), array([0.01]), array([0.01]), array([0.01]), array([0.01]), array([0.01]), array([0.01]), array([0.01]), array([0.01]), array([0.01]), array([0.01]), array([0.01]), array([0.01]), array([0.01]), array([0.01]), array([0.01]), array([0.01]), array([0.01]), array([0.01]), array([0.01]), array([0.01]), array([0.01]), array([0.01]), array([0.01]), array([0.01]), array([0.01]), array([0.01]), array([0.01]), array([0.01]), array([0.01]), array([0.01]), array([0.01]), array([0.01]), array([0.01]), array([0.01]), array([0.01]), array([0.01]), array([0.01]), array([0.01]), array([0.01]), array([0.01]), array([0.01]), array([0.01]), array([0.01]), array([0.01]), array([0.01]), array([0.01]), array([0.01]), array([0.01]), array([0.01]), array([0.01]), array([0.01]), array([0.01]), array([0.01]), array([0.01]), array([0.01]), array([0.01]), array([0.01]), array([0.01]), array([0.01]), array([0.01]), array([0.01]), array([0.01]), array([0.01]), array([0.01]), array([0.01]), array([0.01]), array([0.01]), array([0.01]), array([0.01]), array([0.01]), array([0.01]), array([0.01]), array([0.01]), array([0.01]), array([0.01]), array([0.01]), array([0.01]), array([0.01]), array([0.01]), array([0.01]), array([0.01]), array([0.01]), array([0.01]), array([0.01]), array([0.01]), array([0.01]), array([0.01]), array([0.01]), array([0.01]), array([0.01]), array([0.01]), array([0.01]), array([0.01]), array([0.01]), array([0.01])]\n",
      "[array([0.01]), array([0.01]), array([0.01]), array([0.01]), array([0.01]), array([0.01]), array([0.01]), array([0.01]), array([0.01]), array([0.01]), array([0.01]), array([0.01]), array([0.01]), array([0.01]), array([0.01]), array([0.01]), array([0.01]), array([0.01]), array([0.01]), array([0.01]), array([0.01]), array([0.01]), array([0.01]), array([0.01]), array([0.01]), array([0.01]), array([0.01]), array([0.01]), array([0.01]), array([0.01]), array([0.01]), array([0.01]), array([0.01]), array([0.01]), array([0.01]), array([0.01]), array([0.01]), array([0.01]), array([0.01]), array([0.01]), array([0.01]), array([0.01]), array([0.01]), array([0.01]), array([0.01]), array([0.01]), array([0.01]), array([0.01]), array([0.01]), array([0.01]), array([0.01]), array([0.01]), array([0.01]), array([0.01]), array([0.01]), array([0.01]), array([0.01]), array([0.01]), array([0.01]), array([0.01]), array([0.01]), array([0.01]), array([0.01]), array([0.01]), array([0.01]), array([0.01]), array([0.01]), array([0.01]), array([0.01]), array([0.01]), array([0.01]), array([0.01]), array([0.01]), array([0.01]), array([0.01]), array([0.01]), array([0.01]), array([0.01]), array([0.01]), array([0.01]), array([0.01]), array([0.01]), array([0.01]), array([0.01]), array([0.01]), array([0.01]), array([0.01]), array([0.01]), array([0.01]), array([0.01]), array([0.01]), array([0.01]), array([0.01]), array([0.01]), array([0.01]), array([0.01]), array([0.01]), array([0.01]), array([0.01]), array([0.01])]\n",
      "[array([0.01]), array([0.01]), array([0.01]), array([0.01]), array([0.01]), array([0.01]), array([0.01]), array([0.01]), array([0.01]), array([0.01]), array([0.01]), array([0.01]), array([0.01]), array([0.01]), array([0.01]), array([0.01]), array([0.01]), array([0.01]), array([0.01]), array([0.01]), array([0.01]), array([0.01]), array([0.01]), array([0.01]), array([0.01]), array([0.01]), array([0.01]), array([0.01]), array([0.01]), array([0.01]), array([0.01]), array([0.01]), array([0.01]), array([0.01]), array([0.01]), array([0.01]), array([0.01]), array([0.01]), array([0.01]), array([0.01]), array([0.01]), array([0.01]), array([0.01]), array([0.01]), array([0.01]), array([0.01]), array([0.01]), array([0.01]), array([0.01]), array([0.01]), array([0.01]), array([0.01]), array([0.01]), array([0.01]), array([0.01]), array([0.01]), array([0.01]), array([0.01]), array([0.01]), array([0.01]), array([0.01]), array([0.01]), array([0.01]), array([0.01]), array([0.01]), array([0.01]), array([0.01]), array([0.01]), array([0.01]), array([0.01]), array([0.01]), array([0.01]), array([0.01]), array([0.01]), array([0.01]), array([0.01]), array([0.01]), array([0.01]), array([0.01]), array([0.01]), array([0.01]), array([0.01]), array([0.01]), array([0.01]), array([0.01]), array([0.01]), array([0.01]), array([0.01]), array([0.01]), array([0.01]), array([0.01]), array([0.01]), array([0.01]), array([0.01]), array([0.01]), array([0.01]), array([0.01]), array([0.01]), array([0.01]), array([0.01])]\n",
      "[array([0.01]), array([0.01]), array([0.01]), array([0.01]), array([0.01]), array([0.01]), array([0.01]), array([0.01]), array([0.01]), array([0.01]), array([0.01]), array([0.01]), array([0.01]), array([0.01]), array([0.01]), array([0.01]), array([0.01]), array([0.01]), array([0.01]), array([0.01]), array([0.01]), array([0.01]), array([0.01]), array([0.01]), array([0.01]), array([0.01]), array([0.01]), array([0.01]), array([0.01]), array([0.01]), array([0.01]), array([0.01]), array([0.01]), array([0.01]), array([0.01]), array([0.01]), array([0.01]), array([0.01]), array([0.01]), array([0.01]), array([0.01]), array([0.01]), array([0.01]), array([0.01]), array([0.01]), array([0.01]), array([0.01]), array([0.01]), array([0.01]), array([0.01]), array([0.01]), array([0.01]), array([0.01]), array([0.01]), array([0.01]), array([0.01]), array([0.01]), array([0.01]), array([0.01]), array([0.01]), array([0.01]), array([0.01]), array([0.01]), array([0.01]), array([0.01]), array([0.01]), array([0.01]), array([0.01]), array([0.01]), array([0.01]), array([0.01]), array([0.01]), array([0.01]), array([0.01]), array([0.01]), array([0.01]), array([0.01]), array([0.01]), array([0.01]), array([0.01]), array([0.01]), array([0.01]), array([0.01]), array([0.01]), array([0.01]), array([0.01]), array([0.01]), array([0.01]), array([0.01]), array([0.01]), array([0.01]), array([0.01]), array([0.01]), array([0.01]), array([0.01]), array([0.01]), array([0.01]), array([0.01]), array([0.01]), array([0.01])]\n",
      "[array([0.01]), array([0.01]), array([0.01]), array([0.01]), array([0.01]), array([0.01]), array([0.01]), array([0.01]), array([0.01]), array([0.01]), array([0.01]), array([0.01]), array([0.01]), array([0.01]), array([0.01]), array([0.01]), array([0.01]), array([0.01]), array([0.01]), array([0.01]), array([0.01]), array([0.01]), array([0.01]), array([0.01]), array([0.01]), array([0.01]), array([0.01]), array([0.01]), array([0.01]), array([0.01]), array([0.01]), array([0.01]), array([0.01]), array([0.01]), array([0.01]), array([0.01]), array([0.01]), array([0.01]), array([0.01]), array([0.01]), array([0.01]), array([0.01]), array([0.01]), array([0.01]), array([0.01]), array([0.01]), array([0.01]), array([0.01]), array([0.01]), array([0.01]), array([0.01]), array([0.01]), array([0.01]), array([0.01]), array([0.01]), array([0.01]), array([0.01]), array([0.01]), array([0.01]), array([0.01]), array([0.01]), array([0.01]), array([0.01]), array([0.01]), array([0.01]), array([0.01]), array([0.01]), array([0.01]), array([0.01]), array([0.01]), array([0.01]), array([0.01]), array([0.01]), array([0.01]), array([0.01]), array([0.01]), array([0.01]), array([0.01]), array([0.01]), array([0.01]), array([0.01]), array([0.01]), array([0.01]), array([0.01]), array([0.01]), array([0.01]), array([0.01]), array([0.01]), array([0.01]), array([0.01]), array([0.01]), array([0.01]), array([0.01]), array([0.01]), array([0.01]), array([0.01]), array([0.01]), array([0.01]), array([0.01]), array([0.01])]\n",
      "[array([0.01]), array([0.01]), array([0.01]), array([0.01]), array([0.01]), array([0.01]), array([0.01]), array([0.01]), array([0.01]), array([0.01]), array([0.01]), array([0.01]), array([0.01]), array([0.01]), array([0.01]), array([0.01]), array([0.01]), array([0.01]), array([0.01]), array([0.01]), array([0.01]), array([0.01]), array([0.01]), array([0.01]), array([0.01]), array([0.01]), array([0.01]), array([0.01]), array([0.01]), array([0.01]), array([0.01]), array([0.01]), array([0.01]), array([0.01]), array([0.01]), array([0.01]), array([0.01]), array([0.01]), array([0.01]), array([0.01]), array([0.01]), array([0.01]), array([0.01]), array([0.01]), array([0.01]), array([0.01]), array([0.01]), array([0.01]), array([0.01]), array([0.01]), array([0.01]), array([0.01]), array([0.01]), array([0.01]), array([0.01]), array([0.01]), array([0.01]), array([0.01]), array([0.01]), array([0.01]), array([0.01]), array([0.01]), array([0.01]), array([0.01]), array([0.01]), array([0.01]), array([0.01]), array([0.01]), array([0.01]), array([0.01]), array([0.01]), array([0.01]), array([0.01]), array([0.01]), array([0.01]), array([0.01]), array([0.01]), array([0.01]), array([0.01]), array([0.01]), array([0.01]), array([0.01]), array([0.01]), array([0.01]), array([0.01]), array([0.01]), array([0.01]), array([0.01]), array([0.01]), array([0.01]), array([0.01]), array([0.01]), array([0.01]), array([0.01]), array([0.01]), array([0.01]), array([0.01]), array([0.01]), array([0.01]), array([0.01])]\n",
      "[array([0.01]), array([0.01]), array([0.01]), array([0.01]), array([0.01]), array([0.01]), array([0.01]), array([0.01]), array([0.01]), array([0.01]), array([0.01]), array([0.01]), array([0.01]), array([0.01]), array([0.01]), array([0.01]), array([0.01]), array([0.01]), array([0.01]), array([0.01]), array([0.01]), array([0.01]), array([0.01]), array([0.01]), array([0.01]), array([0.01]), array([0.01]), array([0.01]), array([0.01]), array([0.01]), array([0.01]), array([0.01]), array([0.01]), array([0.01]), array([0.01]), array([0.01]), array([0.01]), array([0.01]), array([0.01]), array([0.01]), array([0.01]), array([0.01]), array([0.01]), array([0.01]), array([0.01]), array([0.01]), array([0.01]), array([0.01]), array([0.01]), array([0.01]), array([0.01]), array([0.01]), array([0.01]), array([0.01]), array([0.01]), array([0.01]), array([0.01]), array([0.01]), array([0.01]), array([0.01]), array([0.01]), array([0.01]), array([0.01]), array([0.01]), array([0.01]), array([0.01]), array([0.01]), array([0.01]), array([0.01]), array([0.01]), array([0.01]), array([0.01]), array([0.01]), array([0.01]), array([0.01]), array([0.01]), array([0.01]), array([0.01]), array([0.01]), array([0.01]), array([0.01]), array([0.01]), array([0.01]), array([0.01]), array([0.01]), array([0.01]), array([0.01]), array([0.01]), array([0.01]), array([0.01]), array([0.01]), array([0.01]), array([0.01]), array([0.01]), array([0.01]), array([0.01]), array([0.01]), array([0.01]), array([0.01]), array([0.01])]\n",
      "[array([0.01]), array([0.01]), array([0.01]), array([0.01]), array([0.01]), array([0.01]), array([0.01]), array([0.01]), array([0.01]), array([0.01]), array([0.01]), array([0.01]), array([0.01]), array([0.01]), array([0.01]), array([0.01]), array([0.01]), array([0.01]), array([0.01]), array([0.01]), array([0.01]), array([0.01]), array([0.01]), array([0.01]), array([0.01]), array([0.01]), array([0.01]), array([0.01]), array([0.01]), array([0.01]), array([0.01]), array([0.01]), array([0.01]), array([0.01]), array([0.01]), array([0.01]), array([0.01]), array([0.01]), array([0.01]), array([0.01]), array([0.01]), array([0.01]), array([0.01]), array([0.01]), array([0.01]), array([0.01]), array([0.01]), array([0.01]), array([0.01]), array([0.01]), array([0.01]), array([0.01]), array([0.01]), array([0.01]), array([0.01]), array([0.01]), array([0.01]), array([0.01]), array([0.01]), array([0.01]), array([0.01]), array([0.01]), array([0.01]), array([0.01]), array([0.01]), array([0.01]), array([0.01]), array([0.01]), array([0.01]), array([0.01]), array([0.01]), array([0.01]), array([0.01]), array([0.01]), array([0.01]), array([0.01]), array([0.01]), array([0.01]), array([0.01]), array([0.01]), array([0.01]), array([0.01]), array([0.01]), array([0.01]), array([0.01]), array([0.01]), array([0.01]), array([0.01]), array([0.01]), array([0.01]), array([0.01]), array([0.01]), array([0.01]), array([0.01]), array([0.01]), array([0.01]), array([0.01]), array([0.01]), array([0.01]), array([0.01])]\n",
      "[array([0.01]), array([0.01]), array([0.01]), array([0.01]), array([0.01]), array([0.01]), array([0.01]), array([0.01]), array([0.01]), array([0.01]), array([0.01]), array([0.01]), array([0.01]), array([0.01]), array([0.01]), array([0.01]), array([0.01]), array([0.01]), array([0.01]), array([0.01]), array([0.01]), array([0.01]), array([0.01]), array([0.01]), array([0.01]), array([0.01]), array([0.01]), array([0.01]), array([0.01]), array([0.01]), array([0.01]), array([0.01]), array([0.01]), array([0.01]), array([0.01]), array([0.01]), array([0.01]), array([0.01]), array([0.01]), array([0.01]), array([0.01]), array([0.01]), array([0.01]), array([0.01]), array([0.01]), array([0.01]), array([0.01]), array([0.01]), array([0.01]), array([0.01]), array([0.01]), array([0.01]), array([0.01]), array([0.01]), array([0.01]), array([0.01]), array([0.01]), array([0.01]), array([0.01]), array([0.01]), array([0.01]), array([0.01]), array([0.01]), array([0.01]), array([0.01]), array([0.01]), array([0.01]), array([0.01]), array([0.01]), array([0.01]), array([0.01]), array([0.01]), array([0.01]), array([0.01]), array([0.01]), array([0.01]), array([0.01]), array([0.01]), array([0.01]), array([0.01]), array([0.01]), array([0.01]), array([0.01]), array([0.01]), array([0.01]), array([0.01]), array([0.01]), array([0.01]), array([0.01]), array([0.01]), array([0.01]), array([0.01]), array([0.01]), array([0.01]), array([0.01]), array([0.01]), array([0.01]), array([0.01]), array([0.01]), array([0.01])]\n",
      "[array([0.01]), array([0.01]), array([0.01]), array([0.01]), array([0.01]), array([0.01]), array([0.01]), array([0.01]), array([0.01]), array([0.01]), array([0.01]), array([0.01]), array([0.01]), array([0.01]), array([0.01]), array([0.01]), array([0.01]), array([0.01]), array([0.01]), array([0.01]), array([0.01]), array([0.01]), array([0.01]), array([0.01]), array([0.01]), array([0.01]), array([0.01]), array([0.01]), array([0.01]), array([0.01]), array([0.01]), array([0.01]), array([0.01]), array([0.01]), array([0.01]), array([0.01]), array([0.01]), array([0.01]), array([0.01]), array([0.01]), array([0.01]), array([0.01]), array([0.01]), array([0.01]), array([0.01]), array([0.01]), array([0.01]), array([0.01]), array([0.01]), array([0.01]), array([0.01]), array([0.01]), array([0.01]), array([0.01]), array([0.01]), array([0.01]), array([0.01]), array([0.01]), array([0.01]), array([0.01]), array([0.01]), array([0.01]), array([0.01]), array([0.01]), array([0.01]), array([0.01]), array([0.01]), array([0.01]), array([0.01]), array([0.01]), array([0.01]), array([0.01]), array([0.01]), array([0.01]), array([0.01]), array([0.01]), array([0.01]), array([0.01]), array([0.01]), array([0.01]), array([0.01]), array([0.01]), array([0.01]), array([0.01]), array([0.01]), array([0.01]), array([0.01]), array([0.01]), array([0.01]), array([0.01]), array([0.01]), array([0.01]), array([0.01]), array([0.01]), array([0.01]), array([0.01]), array([0.01]), array([0.01]), array([0.01]), array([0.01])]\n",
      "[array([0.01]), array([0.01]), array([0.01]), array([0.01]), array([0.01]), array([0.01]), array([0.01]), array([0.01]), array([0.01]), array([0.01]), array([0.01]), array([0.01]), array([0.01]), array([0.01]), array([0.01]), array([0.01]), array([0.01]), array([0.01]), array([0.01]), array([0.01]), array([0.01]), array([0.01]), array([0.01]), array([0.01]), array([0.01]), array([0.01]), array([0.01]), array([0.01]), array([0.01]), array([0.01]), array([0.01]), array([0.01]), array([0.01]), array([0.01]), array([0.01]), array([0.01]), array([0.01]), array([0.01]), array([0.01]), array([0.01]), array([0.01]), array([0.01]), array([0.01]), array([0.01]), array([0.01]), array([0.01]), array([0.01]), array([0.01]), array([0.01]), array([0.01]), array([0.01]), array([0.01]), array([0.01]), array([0.01]), array([0.01]), array([0.01]), array([0.01]), array([0.01]), array([0.01]), array([0.01]), array([0.01]), array([0.01]), array([0.01]), array([0.01]), array([0.01]), array([0.01]), array([0.01]), array([0.01]), array([0.01]), array([0.01]), array([0.01]), array([0.01]), array([0.01]), array([0.01]), array([0.01]), array([0.01]), array([0.01]), array([0.01]), array([0.01]), array([0.01]), array([0.01]), array([0.01]), array([0.01]), array([0.01]), array([0.01]), array([0.01]), array([0.01]), array([0.01]), array([0.01]), array([0.01]), array([0.01]), array([0.01]), array([0.01]), array([0.01]), array([0.01]), array([0.01]), array([0.01]), array([0.01]), array([0.01]), array([0.01])]\n",
      "[array([0.01]), array([0.01]), array([0.01]), array([0.01]), array([0.01]), array([0.01]), array([0.01]), array([0.01]), array([0.01]), array([0.01]), array([0.01]), array([0.01]), array([0.01]), array([0.01]), array([0.01]), array([0.01]), array([0.01]), array([0.01]), array([0.01]), array([0.01]), array([0.01]), array([0.01]), array([0.01]), array([0.01]), array([0.01]), array([0.01]), array([0.01]), array([0.01]), array([0.01]), array([0.01]), array([0.01]), array([0.01]), array([0.01]), array([0.01]), array([0.01]), array([0.01]), array([0.01]), array([0.01]), array([0.01]), array([0.01]), array([0.01]), array([0.01]), array([0.01]), array([0.01]), array([0.01]), array([0.01]), array([0.01]), array([0.01]), array([0.01]), array([0.01]), array([0.01]), array([0.01]), array([0.01]), array([0.01]), array([0.01]), array([0.01]), array([0.01]), array([0.01]), array([0.01]), array([0.01]), array([0.01]), array([0.01]), array([0.01]), array([0.01]), array([0.01]), array([0.01]), array([0.01]), array([0.01]), array([0.01]), array([0.01]), array([0.01]), array([0.01]), array([0.01]), array([0.01]), array([0.01]), array([0.01]), array([0.01]), array([0.01]), array([0.01]), array([0.01]), array([0.01]), array([0.01]), array([0.01]), array([0.01]), array([0.01]), array([0.01]), array([0.01]), array([0.01]), array([0.01]), array([0.01]), array([0.01]), array([0.01]), array([0.01]), array([0.01]), array([0.01]), array([0.01]), array([0.01]), array([0.01]), array([0.01]), array([0.01])]\n",
      "[array([0.01]), array([0.01]), array([0.01]), array([0.01]), array([0.01]), array([0.01]), array([0.01]), array([0.01]), array([0.01]), array([0.01]), array([0.01]), array([0.01]), array([0.01]), array([0.01]), array([0.01]), array([0.01]), array([0.01]), array([0.01]), array([0.01]), array([0.01]), array([0.01]), array([0.01]), array([0.01]), array([0.01]), array([0.01]), array([0.01]), array([0.01]), array([0.01]), array([0.01]), array([0.01]), array([0.01]), array([0.01]), array([0.01]), array([0.01]), array([0.01]), array([0.01]), array([0.01]), array([0.01]), array([0.01]), array([0.01]), array([0.01]), array([0.01]), array([0.01]), array([0.01]), array([0.01]), array([0.01]), array([0.01]), array([0.01]), array([0.01]), array([0.01]), array([0.01]), array([0.01]), array([0.01]), array([0.01]), array([0.01]), array([0.01]), array([0.01]), array([0.01]), array([0.01]), array([0.01]), array([0.01]), array([0.01]), array([0.01]), array([0.01]), array([0.01]), array([0.01]), array([0.01]), array([0.01]), array([0.01]), array([0.01]), array([0.01]), array([0.01]), array([0.01]), array([0.01]), array([0.01]), array([0.01]), array([0.01]), array([0.01]), array([0.01]), array([0.01]), array([0.01]), array([0.01]), array([0.01]), array([0.01]), array([0.01]), array([0.01]), array([0.01]), array([0.01]), array([0.01]), array([0.01]), array([0.01]), array([0.01]), array([0.01]), array([0.01]), array([0.01]), array([0.01]), array([0.01]), array([0.01]), array([0.01]), array([0.01])]\n"
     ]
    },
    {
     "data": {
      "text/plain": [
       "array([-inf, -inf])"
      ]
     },
     "execution_count": 9,
     "metadata": {},
     "output_type": "execute_result"
    }
   ],
   "source": [
    "possible_locations = np.array([-24,-12,0,12,24])\n",
    "variance_conditions = [8]\n",
    "conditions = get_conditions(possible_locations, variance_conditions)\n",
    "data = simulate_data(possible_locations, variance_conditions)\n",
    "pars = [pCommon, sigV, sigA, sigP, data, conditions, possible_locations, 100]\n",
    "bciobjective(pars)"
   ]
  },
  {
   "cell_type": "code",
   "execution_count": 10,
   "metadata": {},
   "outputs": [
    {
     "data": {
      "text/plain": [
       "{(-24, -24, 8): [[8846, 1153, 1, 0, 0], [7759, 2096, 143, 2, 0]],\n",
       " (-24, -12, 8): [[8849, 1149, 2, 0, 0], [2224, 5544, 2108, 124, 0]],\n",
       " (-24, 0, 8): [[8804, 1195, 1, 0, 0], [140, 2100, 5490, 2134, 136]],\n",
       " (-24, 12, 8): [[8826, 1172, 2, 0, 0], [0, 111, 2177, 5380, 2332]],\n",
       " (-24, 24, 8): [[8838, 1162, 0, 0, 0], [0, 1, 135, 2103, 7761]],\n",
       " (-12, -24, 8): [[1246, 7587, 1165, 2, 0], [7737, 2130, 131, 2, 0]],\n",
       " (-12, -12, 8): [[1196, 7696, 1107, 1, 0], [2263, 5522, 2096, 118, 1]],\n",
       " (-12, 0, 8): [[1134, 7743, 1123, 0, 0], [119, 2102, 5489, 2187, 103]],\n",
       " (-12, 12, 8): [[1096, 7754, 1150, 0, 0], [0, 104, 2136, 5443, 2317]],\n",
       " (-12, 24, 8): [[1085, 7772, 1142, 1, 0], [0, 1, 120, 2147, 7732]],\n",
       " (0, -24, 8): [[2, 1199, 7641, 1157, 1], [7801, 2090, 108, 1, 0]],\n",
       " (0, -12, 8): [[0, 1181, 7702, 1117, 0], [2384, 5367, 2134, 115, 0]],\n",
       " (0, 0, 8): [[1, 1237, 7603, 1157, 2], [113, 2166, 5432, 2176, 113]],\n",
       " (0, 12, 8): [[0, 1170, 7663, 1165, 2], [0, 137, 2092, 5472, 2299]],\n",
       " (0, 24, 8): [[1, 1143, 7704, 1149, 3], [0, 0, 119, 2168, 7713]],\n",
       " (12, -24, 8): [[0, 0, 1167, 7700, 1133], [7697, 2166, 137, 0, 0]],\n",
       " (12, -12, 8): [[0, 3, 1093, 7750, 1154], [2271, 5479, 2141, 108, 1]],\n",
       " (12, 0, 8): [[0, 4, 1138, 7717, 1141], [132, 2204, 5358, 2193, 113]],\n",
       " (12, 12, 8): [[0, 2, 1164, 7688, 1146], [2, 137, 2100, 5578, 2183]],\n",
       " (12, 24, 8): [[0, 0, 1063, 7710, 1227], [0, 0, 137, 2121, 7742]],\n",
       " (24, -24, 8): [[0, 0, 3, 1175, 8822], [7715, 2157, 125, 3, 0]],\n",
       " (24, -12, 8): [[0, 0, 2, 1173, 8825], [2253, 5474, 2123, 149, 1]],\n",
       " (24, 0, 8): [[0, 0, 2, 1186, 8812], [101, 2109, 5543, 2123, 124]],\n",
       " (24, 12, 8): [[0, 0, 1, 1141, 8858], [1, 107, 2086, 5505, 2301]],\n",
       " (24, 24, 8): [[0, 0, 1, 1125, 8874], [0, 0, 125, 2190, 7685]]}"
      ]
     },
     "execution_count": 10,
     "metadata": {},
     "output_type": "execute_result"
    }
   ],
   "source": [
    "data"
   ]
  },
  {
   "cell_type": "code",
   "execution_count": 13,
   "metadata": {},
   "outputs": [],
   "source": [
    "import numpy as np\n",
    "def clip(arr, roundup = 0.001): # numpyify this function\n",
    "    \n",
    "    def clipper(x):\n",
    "        for i in range(len(x)):\n",
    "            if x[i] == 0:\n",
    "                x[i] += roundup\n",
    "                print(x[i])\n",
    "            return x\n",
    "        \n",
    "    return np.apply_along_axis(clipper, 0, arr)"
   ]
  },
  {
   "cell_type": "code",
   "execution_count": 14,
   "metadata": {},
   "outputs": [
    {
     "name": "stdout",
     "output_type": "stream",
     "text": [
      "0\n",
      "[ 0  0  0 23 42 51]\n"
     ]
    }
   ],
   "source": [
    "arr = clip(np.array([0, 0, 0, 23, 42, 51]))\n",
    "print(arr)"
   ]
  },
  {
   "cell_type": "code",
   "execution_count": 113,
   "metadata": {},
   "outputs": [],
   "source": [
    "def clip(arr, roundup = 0.001):\n",
    "    arr = np.clip(arr, 0.001, np.inf)\n",
    "    return arr"
   ]
  },
  {
   "cell_type": "code",
   "execution_count": 68,
   "metadata": {},
   "outputs": [],
   "source": [
    "del arr"
   ]
  },
  {
   "cell_type": "code",
   "execution_count": 115,
   "metadata": {},
   "outputs": [
    {
     "data": {
      "text/plain": [
       "44.0"
      ]
     },
     "execution_count": 115,
     "metadata": {},
     "output_type": "execute_result"
    }
   ],
   "source": [
    "arr7 = np.array([0, 0, 0, 44, 55])\n",
    "arr2 = clip(arr7)\n",
    "arr2[3]"
   ]
  },
  {
   "cell_type": "code",
   "execution_count": 85,
   "metadata": {},
   "outputs": [
    {
     "data": {
      "text/plain": [
       "NoneType"
      ]
     },
     "execution_count": 85,
     "metadata": {},
     "output_type": "execute_result"
    }
   ],
   "source": [
    "type(arr2)"
   ]
  },
  {
   "cell_type": "code",
   "execution_count": 82,
   "metadata": {},
   "outputs": [],
   "source": [
    "arr2"
   ]
  },
  {
   "cell_type": "code",
   "execution_count": 58,
   "metadata": {},
   "outputs": [
    {
     "data": {
      "text/plain": [
       "array([ 0,  0,  0, 23, 42, 51])"
      ]
     },
     "execution_count": 58,
     "metadata": {},
     "output_type": "execute_result"
    }
   ],
   "source": [
    "arr"
   ]
  },
  {
   "cell_type": "code",
   "execution_count": 124,
   "metadata": {},
   "outputs": [
    {
     "data": {
      "text/plain": [
       "(array([ 5,  6, 66]), array([4, 4, 1]))"
      ]
     },
     "execution_count": 124,
     "metadata": {},
     "output_type": "execute_result"
    }
   ],
   "source": [
    "x = np.array([5,5,5,5,6,6,6,6,66])\n",
    "unique, counts = np.unique(x, return_counts = True)\n"
   ]
  },
  {
   "cell_type": "code",
   "execution_count": 129,
   "metadata": {},
   "outputs": [
    {
     "data": {
      "text/plain": [
       "array([4, 4, 1])"
      ]
     },
     "execution_count": 129,
     "metadata": {},
     "output_type": "execute_result"
    }
   ],
   "source": [
    "def counter(arr, possible_locations):\n",
    "    init_counts = np.zeros([5,])\n",
    "    poss_arr = np.stack((possible_locations, init_counts), axis = 0)\n",
    "    counts = np.asarray(np.unique(arr, return_counts = True))\n",
    "    indices = np.where(np.in1d(poss_locs, counts))[0]\n",
    "    # so we have the indices of the values we want in the counts array\n",
    "\n",
    "    return counts\n",
    "\n",
    "def counter2(binned, possible_locations): # base this on numpy too\n",
    "    return [binned.count(bvc) for bvc in possible_locations]\n",
    "\n",
    "counter(x)"
   ]
  },
  {
   "cell_type": "code",
   "execution_count": 172,
   "metadata": {},
   "outputs": [
    {
     "name": "stdout",
     "output_type": "stream",
     "text": [
      "[[1. 2. 3. 4. 5.]\n",
      " [0. 0. 0. 0. 0.]]\n",
      "[[4]\n",
      " [7]]\n",
      "[3]\n"
     ]
    }
   ],
   "source": [
    "arr = np.array([4,4,4,4,4,4,4])\n",
    "poss_locs, init_counts = np.array([1,2,3,4,5]), np.zeros([5,])\n",
    "poss_arr = np.stack((poss_locs, init_counts), axis = 0)\n",
    "counts = np.asarray(np.unique(arr, return_counts = True))\n",
    "indices = np.where(np.in1d(poss_locs, counts))[0]\n",
    "print(poss_arr)\n",
    "print(counts)\n",
    "print(indices)\n",
    "# so then at index three of poss_arr[1]\n",
    "# change to count value "
   ]
  },
  {
   "cell_type": "code",
   "execution_count": 176,
   "metadata": {},
   "outputs": [],
   "source": []
  },
  {
   "cell_type": "code",
   "execution_count": 177,
   "metadata": {},
   "outputs": [
    {
     "data": {
      "text/plain": [
       "array([1, 1, 1, 1, 1])"
      ]
     },
     "execution_count": 177,
     "metadata": {},
     "output_type": "execute_result"
    }
   ],
   "source": [
    "arr = np.array([1,2,3,4,5])\n",
    "poss = np.array([1,2,3,4,5])\n",
    "counter(arr, poss)"
   ]
  },
  {
   "cell_type": "code",
   "execution_count": 178,
   "metadata": {},
   "outputs": [
    {
     "name": "stdout",
     "output_type": "stream",
     "text": [
      "3.24 µs ± 75.9 ns per loop (mean ± std. dev. of 7 runs, 100,000 loops each)\n"
     ]
    }
   ],
   "source": [
    "%timeit counter(arr, poss)"
   ]
  }
 ],
 "metadata": {
  "interpreter": {
   "hash": "aee8b7b246df8f9039afb4144a1f6fd8d2ca17a180786b69acc140d282b71a49"
  },
  "kernelspec": {
   "display_name": "Python 3.10.4 64-bit",
   "language": "python",
   "name": "python3"
  },
  "language_info": {
   "codemirror_mode": {
    "name": "ipython",
    "version": 3
   },
   "file_extension": ".py",
   "mimetype": "text/x-python",
   "name": "python",
   "nbconvert_exporter": "python",
   "pygments_lexer": "ipython3",
   "version": "3.10.4"
  },
  "orig_nbformat": 4
 },
 "nbformat": 4,
 "nbformat_minor": 2
}
