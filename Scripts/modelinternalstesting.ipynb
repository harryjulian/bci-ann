{
 "cells": [
  {
   "cell_type": "code",
   "execution_count": 2,
   "metadata": {},
   "outputs": [],
   "source": [
    "import numpy as np\n",
    "import numpy.matlib as ml\n",
    "import numba\n",
    "import matplotlib.pyplot as plt"
   ]
  },
  {
   "cell_type": "code",
   "execution_count": 30,
   "metadata": {},
   "outputs": [],
   "source": [
    "@numba.njit\n",
    "def calculate_likelihood_c1(Xv, Xa, N, pCommon, sigV, varV, sigA, varA, sigP, varP):\n",
    "    # likelihood P(Xv, Xa|C =1)\n",
    "    \n",
    "    firstDenom = 2*np.pi*np.sqrt(varV*varA + varV*varP +varA*varP)\n",
    "    firstTerm = 1/firstDenom \n",
    "    secondNum = (Xv - Xa)**2 * varP + (Xv -0)**2 * varA + (Xa - 0)**2* varV \n",
    "    secondDenom = (varV * varA) + (varV * varP) + (varA * varP)\n",
    "    secondTerm = np.exp((-0.5*(secondNum/secondDenom)))\n",
    "    likelihood_com = firstTerm*secondTerm\n",
    "\n",
    "    return likelihood_com\n",
    "\n",
    "@numba.njit\n",
    "def calculate_likelihood_c2(Xv,Xa, N, pCommon, sigV, varV, sigA, varA, sigP, varP):\n",
    "    # likelihood P(Xv, Xa|C =2)\n",
    "    \n",
    "    firstTerm = 2*np.pi*np.sqrt((varV + varP)*(varA+varP))\n",
    "    secondTerm1 = (Xv - 0)**2/(varV + varP)\n",
    "    secondTerm2 = (Xa - 0)**2 / (varA + varP)\n",
    "    secondTermFull = np.exp((-0.5*(secondTerm1+secondTerm2)) )\n",
    "    likelihood_ind = secondTermFull/firstTerm\n",
    "\n",
    "    return likelihood_ind\n",
    "\n",
    "@numba.njit\n",
    "def calculate_posterior(Xv, Xa, N, pCommon, sigV, varV, sigA, varA, sigP, varP):\n",
    "    # p(C = 1|Xv,Xa) posterior\n",
    "    \n",
    "    likelihood_common = calculate_likelihood_c1(Xv, Xa, N, pCommon, sigV, varV, sigA, varA, sigP, varP)\n",
    "    likelihood_ind = calculate_likelihood_c2(Xv, Xa, N, pCommon, sigV, varV, sigA, varA, sigP, varP)\n",
    "    post_common = likelihood_common * pCommon \n",
    "    post_indep = likelihood_ind * (1-pCommon)\n",
    "    posterior = post_common/(post_common +post_indep)\n",
    "\n",
    "    return posterior\n",
    "\n",
    "def opt_position_conditionalised_C1(Xv, Xa, N, pCommon, sigV, varV, sigA, varA, sigP, varP):\n",
    "    # Get optimal location given C = 1\n",
    "    \n",
    "    cues = Xv/varV + Xa/varA + ml.repmat(pCommon,N,1)/varP\n",
    "    inverseVar = 1/varV + 1/varA + 1/varP\n",
    "    sHatC1 = cues/inverseVar\n",
    "\n",
    "    return sHatC1\n",
    "\n",
    "def opt_position_conditionalised_C2(Xv, Xa, N, pCommon, sigV, varV, sigA, varA, sigP, varP):\n",
    "        # Get optimal locationS given C = 2\n",
    "        \n",
    "    visualCue = Xv/varV +ml.repmat(pCommon,N,1)/varP\n",
    "    visualInvVar = 1/varV + 1/ varP\n",
    "    sHatVC2 = visualCue/visualInvVar\n",
    "    audCue = Xa/varA + ml.repmat(pCommon,N,1)/varP\n",
    "    audInvVar = 1/varA + 1/ varP\n",
    "    sHatAC2 = audCue/audInvVar\n",
    "\n",
    "    return sHatVC2, sHatAC2\n",
    "\n",
    "def optimal_visual_location(Xv, Xa, N, pCommon, sigV, varV, sigA, varA, sigP, varP):\n",
    "    # Use Model Averaging to compute final visual est\n",
    "    \n",
    "    posterior_1C = calculate_posterior(Xv, Xa, N, pCommon, sigV, varV, sigA, varA, sigP, varP)\n",
    "    sHatVC1 = opt_position_conditionalised_C1(Xv, Xa, N, pCommon, sigV, varV, sigA, varA, sigP, varP)\n",
    "    sHatVC2 = opt_position_conditionalised_C2(Xv, Xa, N, pCommon, sigV, varV, sigA, varA, sigP, varP)[0]\n",
    "    sHatV = posterior_1C*sHatVC1 + (1-posterior_1C)*sHatVC2 #model averaging\n",
    "\n",
    "    return sHatV\n",
    "\n",
    "def optimal_aud_location(Xv, Xa, N, pCommon, sigV, varV, sigA, varA, sigP, varP):\n",
    "    # Use Model Averaging to compute final auditory est\n",
    "    \n",
    "    posterior_1C = calculate_posterior(Xv, Xa, N, pCommon, sigV, varV, sigA, varA, sigP, varP)\n",
    "    sHatAC1 = opt_position_conditionalised_C1(Xv, Xa, N, pCommon, sigV, varV, sigA, varA, sigP, varP)\n",
    "    sHatAC2 = opt_position_conditionalised_C2(Xv, Xa, N, pCommon, sigV, varV, sigA, varA, sigP, varP)[1]\n",
    "    sHatA = posterior_1C*sHatAC1 + (1-posterior_1C)*sHatAC2 #model averaging\n",
    "    return sHatA\n"
   ]
  },
  {
   "cell_type": "code",
   "execution_count": 136,
   "metadata": {},
   "outputs": [],
   "source": [
    "N = 10000\n",
    "pCommon, sigV, sigA, sigP = 0.27, 1, 1, 10\n",
    "varV, varA, varP = sigV**2, sigA**2, sigP**2\n",
    "vloc, aloc = 24, 24\n",
    "\n",
    "Xv, Xa = sigV * np.random.randn(N,1) + vloc, sigA * np.random.randn(N,1) + aloc"
   ]
  },
  {
   "cell_type": "code",
   "execution_count": 137,
   "metadata": {},
   "outputs": [],
   "source": [
    "\n",
    "sHatA = optimal_aud_location(Xv, Xa, N, pCommon, sigV, varV, sigA, varA, sigP, varP)"
   ]
  },
  {
   "cell_type": "code",
   "execution_count": 76,
   "metadata": {},
   "outputs": [],
   "source": [
    "@numba.njit(fastmath = True)\n",
    "def calculate_posterior(Xv, Xa, N, pCommon, sigV, varV, sigA, varA, sigP, varP):\n",
    "    # p(C = 1|Xv,Xa) posterior\n",
    "    \n",
    "    likelihood_common = calculate_likelihood_c1(Xv, Xa, N, pCommon, sigV, varV, sigA, varA, sigP, varP)\n",
    "    likelihood_ind = calculate_likelihood_c2(Xv, Xa, N, pCommon, sigV, varV, sigA, varA, sigP, varP)\n",
    "    post_common = likelihood_common * pCommon \n",
    "    post_indep = likelihood_ind * (1-pCommon)\n",
    "    posterior = post_common/(post_common +post_indep)\n",
    "    #plt.hist(posterior)\n",
    "    #plt.title(\"posterior\")\n",
    "    #plt.show()\n",
    "    return posterior"
   ]
  },
  {
   "cell_type": "code",
   "execution_count": 78,
   "metadata": {},
   "outputs": [
    {
     "name": "stdout",
     "output_type": "stream",
     "text": [
      "195 µs ± 7.94 µs per loop (mean ± std. dev. of 7 runs, 10,000 loops each)\n"
     ]
    }
   ],
   "source": [
    "%%timeit\n",
    "calculate_posterior(Xv, Xa, N, pCommon, sigV, varV, sigA, varA, sigP, varP)"
   ]
  },
  {
   "cell_type": "code",
   "execution_count": 80,
   "metadata": {},
   "outputs": [],
   "source": [
    "def count():\n",
    "\n",
    "    pass\n",
    "\n",
    "@numba.njit\n",
    "def bin(y, possible_locations):\n",
    "    return min(possible_locations, key = lambda x:abs(x-y))\n",
    "\n",
    "@numba.njit\n",
    "def binner(sHatA, possible_locations): \n",
    "    l = []\n",
    "    for i in sHatA:\n",
    "        y = min(possible_locations, ley=lambda x:np.abs(x-1))\n",
    "        l.append(y)\n",
    "    return l"
   ]
  },
  {
   "cell_type": "code",
   "execution_count": 106,
   "metadata": {},
   "outputs": [],
   "source": [
    "@numba.njit\n",
    "def find_nearest(array, value):\n",
    "    array = np.asarray(array)\n",
    "    idx = (np.abs(array - value)).argmin()\n",
    "    return array[idx]\n",
    "\n",
    "\n",
    "def binner(sHatA, possible_locations):\n",
    "    poss = np.asarray(possible_locations)\n",
    "    print(poss)\n",
    "    binned = (np.abs(sHatA - possible_locations))\n",
    "    print(type(binned))\n",
    "    return binned"
   ]
  },
  {
   "cell_type": "code",
   "execution_count": 107,
   "metadata": {},
   "outputs": [
    {
     "name": "stdout",
     "output_type": "stream",
     "text": [
      "[-24 -12   0  12  24]\n",
      "<class 'numpy.ndarray'>\n"
     ]
    },
    {
     "data": {
      "text/plain": [
       "array([[24.08354122, 12.08354122,  0.08354122, 11.91645878, 23.91645878],\n",
       "       [24.50464859, 12.50464859,  0.50464859, 11.49535141, 23.49535141],\n",
       "       [23.48658195, 11.48658195,  0.51341805, 12.51341805, 24.51341805],\n",
       "       ...,\n",
       "       [23.95990026, 11.95990026,  0.04009974, 12.04009974, 24.04009974],\n",
       "       [23.92531249, 11.92531249,  0.07468751, 12.07468751, 24.07468751],\n",
       "       [23.94966072, 11.94966072,  0.05033928, 12.05033928, 24.05033928]])"
      ]
     },
     "execution_count": 107,
     "metadata": {},
     "output_type": "execute_result"
    }
   ],
   "source": []
  },
  {
   "cell_type": "code",
   "execution_count": 109,
   "metadata": {},
   "outputs": [
    {
     "ename": "NameError",
     "evalue": "name 'bins' is not defined",
     "output_type": "error",
     "traceback": [
      "\u001b[0;31m---------------------------------------------------------------------------\u001b[0m",
      "\u001b[0;31mNameError\u001b[0m                                 Traceback (most recent call last)",
      "\u001b[1;32m/Users/HarryJulian/Documents/bci-ann/Scripts/modelinternalstesting.ipynb Cell 10'\u001b[0m in \u001b[0;36m<cell line: 4>\u001b[0;34m()\u001b[0m\n\u001b[1;32m      <a href='vscode-notebook-cell:/Users/HarryJulian/Documents/bci-ann/Scripts/modelinternalstesting.ipynb#ch0000011?line=0'>1</a>\u001b[0m \u001b[39mdef\u001b[39;00m \u001b[39mg\u001b[39m(possible_locations, sHatV):\n\u001b[1;32m      <a href='vscode-notebook-cell:/Users/HarryJulian/Documents/bci-ann/Scripts/modelinternalstesting.ipynb#ch0000011?line=1'>2</a>\u001b[0m     \u001b[39mreturn\u001b[39;00m possible_locations[np\u001b[39m.\u001b[39mabs(np\u001b[39m.\u001b[39msubtract\u001b[39m.\u001b[39mouter(sHatV, bins))\u001b[39m.\u001b[39margmin(axis\u001b[39m=\u001b[39m\u001b[39m1\u001b[39m)]\n\u001b[0;32m----> <a href='vscode-notebook-cell:/Users/HarryJulian/Documents/bci-ann/Scripts/modelinternalstesting.ipynb#ch0000011?line=3'>4</a>\u001b[0m g(np\u001b[39m.\u001b[39;49marray([\u001b[39m-\u001b[39;49m\u001b[39m24\u001b[39;49m, \u001b[39m-\u001b[39;49m\u001b[39m12\u001b[39;49m, \u001b[39m0\u001b[39;49m, \u001b[39m12\u001b[39;49m, \u001b[39m24\u001b[39;49m]), sHatA)\n",
      "\u001b[1;32m/Users/HarryJulian/Documents/bci-ann/Scripts/modelinternalstesting.ipynb Cell 10'\u001b[0m in \u001b[0;36mg\u001b[0;34m(possible_locations, sHatV)\u001b[0m\n\u001b[1;32m      <a href='vscode-notebook-cell:/Users/HarryJulian/Documents/bci-ann/Scripts/modelinternalstesting.ipynb#ch0000011?line=0'>1</a>\u001b[0m \u001b[39mdef\u001b[39;00m \u001b[39mg\u001b[39m(possible_locations, sHatV):\n\u001b[0;32m----> <a href='vscode-notebook-cell:/Users/HarryJulian/Documents/bci-ann/Scripts/modelinternalstesting.ipynb#ch0000011?line=1'>2</a>\u001b[0m     \u001b[39mreturn\u001b[39;00m possible_locations[np\u001b[39m.\u001b[39mabs(np\u001b[39m.\u001b[39msubtract\u001b[39m.\u001b[39mouter(sHatV, bins))\u001b[39m.\u001b[39margmin(axis\u001b[39m=\u001b[39m\u001b[39m1\u001b[39m)]\n",
      "\u001b[0;31mNameError\u001b[0m: name 'bins' is not defined"
     ]
    }
   ],
   "source": [
    "def g(possible_locations, sHatV):\n",
    "    return possible_locations[np.abs(np.subtract.outer(sHatV, bins)).argmin(axis=1)]\n",
    "\n",
    "g(np.array([-24, -12, 0, 12, 24]), sHatA)"
   ]
  },
  {
   "cell_type": "code",
   "execution_count": 141,
   "metadata": {},
   "outputs": [
    {
     "name": "stderr",
     "output_type": "stream",
     "text": [
      "UsageError: Line magic function `%%timeit` not found.\n"
     ]
    }
   ],
   "source": [
    "#@numba.njit\n",
    "def custom_round(arr, bins):\n",
    "    bin_centers = (bins[:-1] + bins[1:])/2 \n",
    "    idx = np.digitize(arr, bin_centers)\n",
    "    result = bins[idx]\n",
    "    return result\n",
    "\n",
    "%%timeit custom_round(sHatA, np.array([-24, -12, 0, 12, 24]))"
   ]
  },
  {
   "cell_type": "code",
   "execution_count": 13,
   "metadata": {},
   "outputs": [],
   "source": [
    "arr7, arr2 = arr3"
   ]
  },
  {
   "cell_type": "code",
   "execution_count": 7,
   "metadata": {},
   "outputs": [],
   "source": [
    "arr1 = np.ndarray([20, 20])\n",
    "arr2 = np.ndarray([1, 10])\n",
    "arr3 = np.array([arr1, arr2], dtype = object)"
   ]
  },
  {
   "cell_type": "code",
   "execution_count": 15,
   "metadata": {},
   "outputs": [
    {
     "data": {
      "text/plain": [
       "(20, 20)"
      ]
     },
     "execution_count": 15,
     "metadata": {},
     "output_type": "execute_result"
    }
   ],
   "source": [
    "arr7.shape"
   ]
  },
  {
   "cell_type": "code",
   "execution_count": 17,
   "metadata": {},
   "outputs": [],
   "source": [
    "import numba\n",
    "@numba.njit\n",
    "def get_samples(N, vloc, aloc, pCommon, sigV, varV, sigA, varA, sigP, varP):\n",
    "    return sigV * np.random.randn(N,1) + vloc, sigA * np.random.randn(N,1) + aloc"
   ]
  },
  {
   "cell_type": "code",
   "execution_count": 19,
   "metadata": {},
   "outputs": [],
   "source": [
    "from bcimodel import bcifit"
   ]
  },
  {
   "cell_type": "code",
   "execution_count": null,
   "metadata": {},
   "outputs": [],
   "source": [
    "bcifit()"
   ]
  }
 ],
 "metadata": {
  "interpreter": {
   "hash": "aee8b7b246df8f9039afb4144a1f6fd8d2ca17a180786b69acc140d282b71a49"
  },
  "kernelspec": {
   "display_name": "Python 3.10.4 64-bit",
   "language": "python",
   "name": "python3"
  },
  "language_info": {
   "codemirror_mode": {
    "name": "ipython",
    "version": 3
   },
   "file_extension": ".py",
   "mimetype": "text/x-python",
   "name": "python",
   "nbconvert_exporter": "python",
   "pygments_lexer": "ipython3",
   "version": "3.10.4"
  },
  "orig_nbformat": 4
 },
 "nbformat": 4,
 "nbformat_minor": 2
}
