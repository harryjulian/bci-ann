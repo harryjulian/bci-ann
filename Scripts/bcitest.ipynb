{
 "cells": [
  {
   "cell_type": "code",
   "execution_count": 1,
   "metadata": {},
   "outputs": [
    {
     "ename": "NameError",
     "evalue": "name 'data' is not defined",
     "output_type": "error",
     "traceback": [
      "\u001b[0;31m---------------------------------------------------------------------------\u001b[0m",
      "\u001b[0;31mNameError\u001b[0m                                 Traceback (most recent call last)",
      "\u001b[1;32m/Users/HarryJulian/Documents/bci-ann/Scripts/bcitest.ipynb Cell 1'\u001b[0m in \u001b[0;36m<cell line: 4>\u001b[0;34m()\u001b[0m\n\u001b[1;32m      <a href='vscode-notebook-cell:/Users/HarryJulian/Documents/bci-ann/Scripts/bcitest.ipynb#ch0000000?line=0'>1</a>\u001b[0m \u001b[39mimport\u001b[39;00m \u001b[39mnumpy\u001b[39;00m \u001b[39mas\u001b[39;00m \u001b[39mnp\u001b[39;00m\n\u001b[1;32m      <a href='vscode-notebook-cell:/Users/HarryJulian/Documents/bci-ann/Scripts/bcitest.ipynb#ch0000000?line=1'>2</a>\u001b[0m \u001b[39mfrom\u001b[39;00m \u001b[39mitertools\u001b[39;00m \u001b[39mimport\u001b[39;00m product\n\u001b[0;32m----> <a href='vscode-notebook-cell:/Users/HarryJulian/Documents/bci-ann/Scripts/bcitest.ipynb#ch0000000?line=3'>4</a>\u001b[0m \u001b[39mfrom\u001b[39;00m \u001b[39mbcimodel\u001b[39;00m \u001b[39mimport\u001b[39;00m bcifit\n\u001b[1;32m      <a href='vscode-notebook-cell:/Users/HarryJulian/Documents/bci-ann/Scripts/bcitest.ipynb#ch0000000?line=4'>5</a>\u001b[0m \u001b[39mfrom\u001b[39;00m \u001b[39mtest\u001b[39;00m \u001b[39mimport\u001b[39;00m simulate_data\n",
      "File \u001b[0;32m~/Documents/bci-ann/Scripts/bcimodel.py:116\u001b[0m, in \u001b[0;36m<module>\u001b[0;34m\u001b[0m\n\u001b[1;32m    <a href='file:///Users/HarryJulian/Documents/bci-ann/Scripts/bcimodel.py?line=111'>112</a>\u001b[0m     \u001b[39mreturn\u001b[39;00m sHatA\n\u001b[1;32m    <a href='file:///Users/HarryJulian/Documents/bci-ann/Scripts/bcimodel.py?line=113'>114</a>\u001b[0m \u001b[39m# Write full Model Wrapper\u001b[39;00m\n\u001b[0;32m--> <a href='file:///Users/HarryJulian/Documents/bci-ann/Scripts/bcimodel.py?line=115'>116</a>\u001b[0m \u001b[39mdef\u001b[39;00m \u001b[39mbciobjective\u001b[39m(pars, data \u001b[39m=\u001b[39m data, possible_locations \u001b[39m=\u001b[39m possible_locations, conditions \u001b[39m=\u001b[39m conditions, N \u001b[39m=\u001b[39m N):\n\u001b[1;32m    <a href='file:///Users/HarryJulian/Documents/bci-ann/Scripts/bcimodel.py?line=117'>118</a>\u001b[0m     \u001b[39m\"\"\"\u001b[39;00m\n\u001b[1;32m    <a href='file:///Users/HarryJulian/Documents/bci-ann/Scripts/bcimodel.py?line=118'>119</a>\u001b[0m \u001b[39m        Parameters --> np.array(dtype=object) of the following:\u001b[39;00m\n\u001b[1;32m    <a href='file:///Users/HarryJulian/Documents/bci-ann/Scripts/bcimodel.py?line=119'>120</a>\u001b[0m \u001b[39m                       pCommon, sigV, sigA, sigP,\u001b[39;00m\n\u001b[1;32m    <a href='file:///Users/HarryJulian/Documents/bci-ann/Scripts/bcimodel.py?line=120'>121</a>\u001b[0m \u001b[39m                       data, conditions, possible_locations N (in this order).\u001b[39;00m\n\u001b[1;32m    <a href='file:///Users/HarryJulian/Documents/bci-ann/Scripts/bcimodel.py?line=121'>122</a>\u001b[0m \u001b[39m    \"\"\"\u001b[39;00m\n\u001b[1;32m    <a href='file:///Users/HarryJulian/Documents/bci-ann/Scripts/bcimodel.py?line=123'>124</a>\u001b[0m     pCommon, sigV, sigA, sigP \u001b[39m=\u001b[39m pars \u001b[39m#unpack array\u001b[39;00m\n",
      "\u001b[0;31mNameError\u001b[0m: name 'data' is not defined"
     ]
    }
   ],
   "source": [
    "import numpy as np\n",
    "from itertools import product\n",
    "\n",
    "from bcimodel import bcifit\n",
    "from test import simulate_data"
   ]
  },
  {
   "cell_type": "code",
   "execution_count": 6,
   "metadata": {},
   "outputs": [],
   "source": [
    "global data, conditions, possible_locations, N"
   ]
  },
  {
   "cell_type": "code",
   "execution_count": 2,
   "metadata": {},
   "outputs": [],
   "source": [
    "def get_conditions(possible_locations, variance_conditions):\n",
    "    return list(product(possible_locations, possible_locations, variance_conditions))\n",
    "\n",
    "possible_locations = [-24, -12, 0, 12, 24]\n",
    "variance_conditions = [8]\n",
    "data = simulate_data(possible_locations, variance_conditions)\n",
    "conditions = get_conditions(possible_locations, variance_conditions)"
   ]
  },
  {
   "cell_type": "code",
   "execution_count": 3,
   "metadata": {},
   "outputs": [
    {
     "ename": "TypeError",
     "evalue": "unhashable type: 'dict'",
     "output_type": "error",
     "traceback": [
      "\u001b[0;31m---------------------------------------------------------------------------\u001b[0m",
      "\u001b[0;31mTypeError\u001b[0m                                 Traceback (most recent call last)",
      "\u001b[1;32m/Users/HarryJulian/Documents/bci-ann/Scripts/bcitest.ipynb Cell 3'\u001b[0m in \u001b[0;36m<cell line: 1>\u001b[0;34m()\u001b[0m\n\u001b[0;32m----> <a href='vscode-notebook-cell:/Users/HarryJulian/Documents/bci-ann/Scripts/bcitest.ipynb#ch0000004?line=0'>1</a>\u001b[0m bcifit(data, conditions, possible_locations, \u001b[39m10000\u001b[39;49m)\n",
      "File \u001b[0;32m~/Documents/bci-ann/Scripts/bcimodel.py:145\u001b[0m, in \u001b[0;36mbcifit\u001b[0;34m(data, conditions, possible_locations, N)\u001b[0m\n\u001b[1;32m    <a href='file:///Users/HarryJulian/Documents/bci-ann/Scripts/bcimodel.py?line=140'>141</a>\u001b[0m \u001b[39mdef\u001b[39;00m \u001b[39mbcifit\u001b[39m(data, conditions, possible_locations, N):\n\u001b[1;32m    <a href='file:///Users/HarryJulian/Documents/bci-ann/Scripts/bcimodel.py?line=141'>142</a>\u001b[0m \n\u001b[1;32m    <a href='file:///Users/HarryJulian/Documents/bci-ann/Scripts/bcimodel.py?line=142'>143</a>\u001b[0m     \u001b[39m# Setup paramater space\u001b[39;00m\n\u001b[1;32m    <a href='file:///Users/HarryJulian/Documents/bci-ann/Scripts/bcimodel.py?line=143'>144</a>\u001b[0m     searchspace \u001b[39m=\u001b[39m [Real(\u001b[39m0.1\u001b[39m, \u001b[39m0.7\u001b[39m), Real(\u001b[39m1\u001b[39m, \u001b[39m20\u001b[39m), Real(\u001b[39m1\u001b[39m, \u001b[39m20\u001b[39m), Real(\u001b[39m1\u001b[39m, \u001b[39m20\u001b[39m), \n\u001b[0;32m--> <a href='file:///Users/HarryJulian/Documents/bci-ann/Scripts/bcimodel.py?line=144'>145</a>\u001b[0m                   Categorical([data]), Categorical([conditions]), \n\u001b[1;32m    <a href='file:///Users/HarryJulian/Documents/bci-ann/Scripts/bcimodel.py?line=145'>146</a>\u001b[0m                   Categorical([possible_locations]), Categorical(N)]\n\u001b[1;32m    <a href='file:///Users/HarryJulian/Documents/bci-ann/Scripts/bcimodel.py?line=147'>148</a>\u001b[0m     \u001b[39m# Run Optimizer\u001b[39;00m\n\u001b[1;32m    <a href='file:///Users/HarryJulian/Documents/bci-ann/Scripts/bcimodel.py?line=148'>149</a>\u001b[0m     res \u001b[39m=\u001b[39m gp_minimize(bciobjective, dimensions\u001b[39m=\u001b[39msearchspace, n_initial_points\u001b[39m=\u001b[39m\u001b[39m100\u001b[39m, \n\u001b[1;32m    <a href='file:///Users/HarryJulian/Documents/bci-ann/Scripts/bcimodel.py?line=149'>150</a>\u001b[0m                     initial_point_generator\u001b[39m=\u001b[39m\u001b[39m'\u001b[39m\u001b[39mlhs\u001b[39m\u001b[39m'\u001b[39m, noise\u001b[39m=\u001b[39m\u001b[39m'\u001b[39m\u001b[39mgaussian\u001b[39m\u001b[39m'\u001b[39m)\n",
      "File \u001b[0;32m/Library/Frameworks/Python.framework/Versions/3.10/lib/python3.10/site-packages/skopt/space/space.py:621\u001b[0m, in \u001b[0;36mCategorical.__init__\u001b[0;34m(self, categories, prior, transform, name)\u001b[0m\n\u001b[1;32m    <a href='file:///Library/Frameworks/Python.framework/Versions/3.10/lib/python3.10/site-packages/skopt/space/space.py?line=618'>619</a>\u001b[0m \u001b[39melse\u001b[39;00m:\n\u001b[1;32m    <a href='file:///Library/Frameworks/Python.framework/Versions/3.10/lib/python3.10/site-packages/skopt/space/space.py?line=619'>620</a>\u001b[0m     \u001b[39mself\u001b[39m\u001b[39m.\u001b[39mprior_ \u001b[39m=\u001b[39m prior\n\u001b[0;32m--> <a href='file:///Library/Frameworks/Python.framework/Versions/3.10/lib/python3.10/site-packages/skopt/space/space.py?line=620'>621</a>\u001b[0m \u001b[39mself\u001b[39;49m\u001b[39m.\u001b[39;49mset_transformer(transform)\n",
      "File \u001b[0;32m/Library/Frameworks/Python.framework/Versions/3.10/lib/python3.10/site-packages/skopt/space/space.py:639\u001b[0m, in \u001b[0;36mCategorical.set_transformer\u001b[0;34m(self, transform)\u001b[0m\n\u001b[1;32m    <a href='file:///Library/Frameworks/Python.framework/Versions/3.10/lib/python3.10/site-packages/skopt/space/space.py?line=636'>637</a>\u001b[0m \u001b[39mif\u001b[39;00m transform \u001b[39m==\u001b[39m \u001b[39m\"\u001b[39m\u001b[39monehot\u001b[39m\u001b[39m\"\u001b[39m:\n\u001b[1;32m    <a href='file:///Library/Frameworks/Python.framework/Versions/3.10/lib/python3.10/site-packages/skopt/space/space.py?line=637'>638</a>\u001b[0m     \u001b[39mself\u001b[39m\u001b[39m.\u001b[39mtransformer \u001b[39m=\u001b[39m CategoricalEncoder()\n\u001b[0;32m--> <a href='file:///Library/Frameworks/Python.framework/Versions/3.10/lib/python3.10/site-packages/skopt/space/space.py?line=638'>639</a>\u001b[0m     \u001b[39mself\u001b[39;49m\u001b[39m.\u001b[39;49mtransformer\u001b[39m.\u001b[39;49mfit(\u001b[39mself\u001b[39;49m\u001b[39m.\u001b[39;49mcategories)\n\u001b[1;32m    <a href='file:///Library/Frameworks/Python.framework/Versions/3.10/lib/python3.10/site-packages/skopt/space/space.py?line=639'>640</a>\u001b[0m \u001b[39melif\u001b[39;00m transform \u001b[39m==\u001b[39m \u001b[39m\"\u001b[39m\u001b[39mstring\u001b[39m\u001b[39m\"\u001b[39m:\n\u001b[1;32m    <a href='file:///Library/Frameworks/Python.framework/Versions/3.10/lib/python3.10/site-packages/skopt/space/space.py?line=640'>641</a>\u001b[0m     \u001b[39mself\u001b[39m\u001b[39m.\u001b[39mtransformer \u001b[39m=\u001b[39m StringEncoder()\n",
      "File \u001b[0;32m/Library/Frameworks/Python.framework/Versions/3.10/lib/python3.10/site-packages/skopt/space/transformers.py:113\u001b[0m, in \u001b[0;36mCategoricalEncoder.fit\u001b[0;34m(self, X)\u001b[0m\n\u001b[1;32m    <a href='file:///Library/Frameworks/Python.framework/Versions/3.10/lib/python3.10/site-packages/skopt/space/transformers.py?line=104'>105</a>\u001b[0m \u001b[39mdef\u001b[39;00m \u001b[39mfit\u001b[39m(\u001b[39mself\u001b[39m, X):\n\u001b[1;32m    <a href='file:///Library/Frameworks/Python.framework/Versions/3.10/lib/python3.10/site-packages/skopt/space/transformers.py?line=105'>106</a>\u001b[0m     \u001b[39m\"\"\"Fit a list or array of categories.\u001b[39;00m\n\u001b[1;32m    <a href='file:///Library/Frameworks/Python.framework/Versions/3.10/lib/python3.10/site-packages/skopt/space/transformers.py?line=106'>107</a>\u001b[0m \n\u001b[1;32m    <a href='file:///Library/Frameworks/Python.framework/Versions/3.10/lib/python3.10/site-packages/skopt/space/transformers.py?line=107'>108</a>\u001b[0m \u001b[39m    Parameters\u001b[39;00m\n\u001b[0;32m   (...)\u001b[0m\n\u001b[1;32m    <a href='file:///Library/Frameworks/Python.framework/Versions/3.10/lib/python3.10/site-packages/skopt/space/transformers.py?line=110'>111</a>\u001b[0m \u001b[39m        List of categories.\u001b[39;00m\n\u001b[1;32m    <a href='file:///Library/Frameworks/Python.framework/Versions/3.10/lib/python3.10/site-packages/skopt/space/transformers.py?line=111'>112</a>\u001b[0m \u001b[39m    \"\"\"\u001b[39;00m\n\u001b[0;32m--> <a href='file:///Library/Frameworks/Python.framework/Versions/3.10/lib/python3.10/site-packages/skopt/space/transformers.py?line=112'>113</a>\u001b[0m     \u001b[39mself\u001b[39m\u001b[39m.\u001b[39mmapping_ \u001b[39m=\u001b[39m {v: i \u001b[39mfor\u001b[39;00m i, v \u001b[39min\u001b[39;00m \u001b[39menumerate\u001b[39m(X)}\n\u001b[1;32m    <a href='file:///Library/Frameworks/Python.framework/Versions/3.10/lib/python3.10/site-packages/skopt/space/transformers.py?line=113'>114</a>\u001b[0m     \u001b[39mself\u001b[39m\u001b[39m.\u001b[39minverse_mapping_ \u001b[39m=\u001b[39m {i: v \u001b[39mfor\u001b[39;00m v, i \u001b[39min\u001b[39;00m \u001b[39mself\u001b[39m\u001b[39m.\u001b[39mmapping_\u001b[39m.\u001b[39mitems()}\n\u001b[1;32m    <a href='file:///Library/Frameworks/Python.framework/Versions/3.10/lib/python3.10/site-packages/skopt/space/transformers.py?line=114'>115</a>\u001b[0m     \u001b[39mself\u001b[39m\u001b[39m.\u001b[39m_lb\u001b[39m.\u001b[39mfit([\u001b[39mself\u001b[39m\u001b[39m.\u001b[39mmapping_[v] \u001b[39mfor\u001b[39;00m v \u001b[39min\u001b[39;00m X])\n",
      "File \u001b[0;32m/Library/Frameworks/Python.framework/Versions/3.10/lib/python3.10/site-packages/skopt/space/transformers.py:113\u001b[0m, in \u001b[0;36m<dictcomp>\u001b[0;34m(.0)\u001b[0m\n\u001b[1;32m    <a href='file:///Library/Frameworks/Python.framework/Versions/3.10/lib/python3.10/site-packages/skopt/space/transformers.py?line=104'>105</a>\u001b[0m \u001b[39mdef\u001b[39;00m \u001b[39mfit\u001b[39m(\u001b[39mself\u001b[39m, X):\n\u001b[1;32m    <a href='file:///Library/Frameworks/Python.framework/Versions/3.10/lib/python3.10/site-packages/skopt/space/transformers.py?line=105'>106</a>\u001b[0m     \u001b[39m\"\"\"Fit a list or array of categories.\u001b[39;00m\n\u001b[1;32m    <a href='file:///Library/Frameworks/Python.framework/Versions/3.10/lib/python3.10/site-packages/skopt/space/transformers.py?line=106'>107</a>\u001b[0m \n\u001b[1;32m    <a href='file:///Library/Frameworks/Python.framework/Versions/3.10/lib/python3.10/site-packages/skopt/space/transformers.py?line=107'>108</a>\u001b[0m \u001b[39m    Parameters\u001b[39;00m\n\u001b[0;32m   (...)\u001b[0m\n\u001b[1;32m    <a href='file:///Library/Frameworks/Python.framework/Versions/3.10/lib/python3.10/site-packages/skopt/space/transformers.py?line=110'>111</a>\u001b[0m \u001b[39m        List of categories.\u001b[39;00m\n\u001b[1;32m    <a href='file:///Library/Frameworks/Python.framework/Versions/3.10/lib/python3.10/site-packages/skopt/space/transformers.py?line=111'>112</a>\u001b[0m \u001b[39m    \"\"\"\u001b[39;00m\n\u001b[0;32m--> <a href='file:///Library/Frameworks/Python.framework/Versions/3.10/lib/python3.10/site-packages/skopt/space/transformers.py?line=112'>113</a>\u001b[0m     \u001b[39mself\u001b[39m\u001b[39m.\u001b[39mmapping_ \u001b[39m=\u001b[39m {v: i \u001b[39mfor\u001b[39;00m i, v \u001b[39min\u001b[39;00m \u001b[39menumerate\u001b[39m(X)}\n\u001b[1;32m    <a href='file:///Library/Frameworks/Python.framework/Versions/3.10/lib/python3.10/site-packages/skopt/space/transformers.py?line=113'>114</a>\u001b[0m     \u001b[39mself\u001b[39m\u001b[39m.\u001b[39minverse_mapping_ \u001b[39m=\u001b[39m {i: v \u001b[39mfor\u001b[39;00m v, i \u001b[39min\u001b[39;00m \u001b[39mself\u001b[39m\u001b[39m.\u001b[39mmapping_\u001b[39m.\u001b[39mitems()}\n\u001b[1;32m    <a href='file:///Library/Frameworks/Python.framework/Versions/3.10/lib/python3.10/site-packages/skopt/space/transformers.py?line=114'>115</a>\u001b[0m     \u001b[39mself\u001b[39m\u001b[39m.\u001b[39m_lb\u001b[39m.\u001b[39mfit([\u001b[39mself\u001b[39m\u001b[39m.\u001b[39mmapping_[v] \u001b[39mfor\u001b[39;00m v \u001b[39min\u001b[39;00m X])\n",
      "\u001b[0;31mTypeError\u001b[0m: unhashable type: 'dict'"
     ]
    }
   ],
   "source": [
    "bcifit(data, conditions, possible_locations, 10000)"
   ]
  }
 ],
 "metadata": {
  "interpreter": {
   "hash": "aee8b7b246df8f9039afb4144a1f6fd8d2ca17a180786b69acc140d282b71a49"
  },
  "kernelspec": {
   "display_name": "Python 3.10.4 64-bit",
   "language": "python",
   "name": "python3"
  },
  "language_info": {
   "codemirror_mode": {
    "name": "ipython",
    "version": 3
   },
   "file_extension": ".py",
   "mimetype": "text/x-python",
   "name": "python",
   "nbconvert_exporter": "python",
   "pygments_lexer": "ipython3",
   "version": "3.10.4"
  },
  "orig_nbformat": 4
 },
 "nbformat": 4,
 "nbformat_minor": 2
}
