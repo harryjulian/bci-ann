{
 "cells": [
  {
   "cell_type": "code",
   "execution_count": 1,
   "metadata": {},
   "outputs": [],
   "source": [
    "from bciutils import fitmodel\n",
    "from test import simulate_data"
   ]
  },
  {
   "cell_type": "code",
   "execution_count": 3,
   "metadata": {},
   "outputs": [],
   "source": [
    "possible_locations = [-24,-12,0,12,24]\n",
    "variance_conditions = [1,6]\n",
    "\n",
    "data = simulate_data(possible_locations, variance_conditions)"
   ]
  },
  {
   "cell_type": "code",
   "execution_count": 4,
   "metadata": {},
   "outputs": [
    {
     "ename": "TypeError",
     "evalue": "fitgrid() missing 4 required positional arguments: 'data', 'possible_locations', 'variance_conds', and 'N'",
     "output_type": "error",
     "traceback": [
      "\u001b[0;31m---------------------------------------------------------------------------\u001b[0m",
      "\u001b[0;31mTypeError\u001b[0m                                 Traceback (most recent call last)",
      "\u001b[1;32m/Users/HarryJulian/Documents/bci-ann/Scripts/bcitest.ipynb Cell 3'\u001b[0m in \u001b[0;36m<cell line: 1>\u001b[0;34m()\u001b[0m\n\u001b[0;32m----> <a href='vscode-notebook-cell:/Users/HarryJulian/Documents/bci-ann/Scripts/bcitest.ipynb#ch0000002?line=0'>1</a>\u001b[0m fitmodel(\u001b[39m\"\u001b[39;49m\u001b[39mnelder-mead\u001b[39;49m\u001b[39m\"\u001b[39;49m, data, possible_locations, variance_conditions, N \u001b[39m=\u001b[39;49m \u001b[39m2000\u001b[39;49m)\n",
      "File \u001b[0;32m~/Documents/bci-ann/Scripts/bciutils.py:159\u001b[0m, in \u001b[0;36mfitmodel\u001b[0;34m(method, data, possible_locations, variance_conds, N)\u001b[0m\n\u001b[1;32m    <a href='file:///Users/HarryJulian/Documents/bci-ann/Scripts/bciutils.py?line=156'>157</a>\u001b[0m \u001b[39m# Create bounds and get x0 from grid fitting procedure\u001b[39;00m\n\u001b[1;32m    <a href='file:///Users/HarryJulian/Documents/bci-ann/Scripts/bciutils.py?line=157'>158</a>\u001b[0m bounds \u001b[39m=\u001b[39m [(\u001b[39m0.01\u001b[39m, \u001b[39m0.6\u001b[39m), (\u001b[39m0.1\u001b[39m, \u001b[39m15\u001b[39m), (\u001b[39m0.01\u001b[39m, \u001b[39m15\u001b[39m), (\u001b[39m0.01\u001b[39m, \u001b[39m15\u001b[39m)]\n\u001b[0;32m--> <a href='file:///Users/HarryJulian/Documents/bci-ann/Scripts/bciutils.py?line=158'>159</a>\u001b[0m x0 \u001b[39m=\u001b[39m fitgrid(params)\n\u001b[1;32m    <a href='file:///Users/HarryJulian/Documents/bci-ann/Scripts/bciutils.py?line=159'>160</a>\u001b[0m \u001b[39mprint\u001b[39m(x0)\n\u001b[1;32m    <a href='file:///Users/HarryJulian/Documents/bci-ann/Scripts/bciutils.py?line=161'>162</a>\u001b[0m res \u001b[39m=\u001b[39m minimize(bci, x0 \u001b[39m=\u001b[39m x0, bounds \u001b[39m=\u001b[39m bounds, args \u001b[39m=\u001b[39m (data, possible_locations, variance_conds, N), method \u001b[39m=\u001b[39m method)\n",
      "\u001b[0;31mTypeError\u001b[0m: fitgrid() missing 4 required positional arguments: 'data', 'possible_locations', 'variance_conds', and 'N'"
     ]
    }
   ],
   "source": [
    "fitmodel(\"nelder-mead\", data, possible_locations, variance_conditions, N = 2000)"
   ]
  }
 ],
 "metadata": {
  "interpreter": {
   "hash": "aee8b7b246df8f9039afb4144a1f6fd8d2ca17a180786b69acc140d282b71a49"
  },
  "kernelspec": {
   "display_name": "Python 3.10.4 64-bit",
   "language": "python",
   "name": "python3"
  },
  "language_info": {
   "codemirror_mode": {
    "name": "ipython",
    "version": 3
   },
   "file_extension": ".py",
   "mimetype": "text/x-python",
   "name": "python",
   "nbconvert_exporter": "python",
   "pygments_lexer": "ipython3",
   "version": "3.10.4"
  },
  "orig_nbformat": 4
 },
 "nbformat": 4,
 "nbformat_minor": 2
}
