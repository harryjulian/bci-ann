{
 "cells": [
  {
   "cell_type": "code",
   "execution_count": 1,
   "metadata": {},
   "outputs": [],
   "source": [
    "from test import sim_data"
   ]
  },
  {
   "cell_type": "code",
   "execution_count": 4,
   "metadata": {},
   "outputs": [
    {
     "name": "stdout",
     "output_type": "stream",
     "text": [
      "well, this part works\n",
      "(20, 20, 5)\n",
      "(20, 20, 10)\n",
      "(20, 40, 5)\n",
      "(20, 40, 10)\n",
      "(20, 60, 5)\n",
      "(20, 60, 10)\n",
      "(20, 80, 5)\n",
      "(20, 80, 10)\n",
      "(20, 100, 5)\n",
      "(20, 100, 10)\n",
      "(40, 20, 5)\n",
      "(40, 20, 10)\n",
      "(40, 40, 5)\n",
      "(40, 40, 10)\n",
      "(40, 60, 5)\n",
      "(40, 60, 10)\n",
      "(40, 80, 5)\n",
      "(40, 80, 10)\n",
      "(40, 100, 5)\n",
      "(40, 100, 10)\n",
      "(60, 20, 5)\n",
      "(60, 20, 10)\n",
      "(60, 40, 5)\n",
      "(60, 40, 10)\n",
      "(60, 60, 5)\n",
      "(60, 60, 10)\n",
      "(60, 80, 5)\n",
      "(60, 80, 10)\n",
      "(60, 100, 5)\n",
      "(60, 100, 10)\n",
      "(80, 20, 5)\n",
      "(80, 20, 10)\n",
      "(80, 40, 5)\n",
      "(80, 40, 10)\n",
      "(80, 60, 5)\n",
      "(80, 60, 10)\n",
      "(80, 80, 5)\n",
      "(80, 80, 10)\n",
      "(80, 100, 5)\n",
      "(80, 100, 10)\n",
      "(100, 20, 5)\n",
      "(100, 20, 10)\n",
      "(100, 40, 5)\n",
      "(100, 40, 10)\n",
      "(100, 60, 5)\n",
      "(100, 60, 10)\n",
      "(100, 80, 5)\n",
      "(100, 80, 10)\n",
      "(100, 100, 5)\n",
      "(100, 100, 10)\n"
     ]
    }
   ],
   "source": [
    "possible_locations = [20, 40, 60, 80, 100]\n",
    "variance_conds = [5, 10]\n",
    "data = sim_data(possible_locations, variance_conds)"
   ]
  }
 ],
 "metadata": {
  "interpreter": {
   "hash": "aee8b7b246df8f9039afb4144a1f6fd8d2ca17a180786b69acc140d282b71a49"
  },
  "kernelspec": {
   "display_name": "Python 3.10.4 64-bit",
   "language": "python",
   "name": "python3"
  },
  "language_info": {
   "codemirror_mode": {
    "name": "ipython",
    "version": 3
   },
   "file_extension": ".py",
   "mimetype": "text/x-python",
   "name": "python",
   "nbconvert_exporter": "python",
   "pygments_lexer": "ipython3",
   "version": "3.10.4"
  },
  "orig_nbformat": 4
 },
 "nbformat": 4,
 "nbformat_minor": 2
}
