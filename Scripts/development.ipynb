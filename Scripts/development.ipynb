{
 "cells": [
  {
   "cell_type": "code",
   "execution_count": 2,
   "metadata": {},
   "outputs": [],
   "source": [
    "import scipy.stats"
   ]
  },
  {
   "cell_type": "code",
   "execution_count": 112,
   "metadata": {},
   "outputs": [
    {
     "data": {
      "text/plain": [
       "array([111.13893724,  35.89918243, 115.81964782,  20.8859525 ,\n",
       "        28.31727721,  94.57664582,  39.66243067,  13.41020977,\n",
       "        39.01117702,  92.13388814,  41.80358177,  33.39092297,\n",
       "        59.99475713,  94.85129076,  63.6414993 ,  95.58777283,\n",
       "        32.00342784,  98.78513489,  56.08158286, 109.24966333,\n",
       "        24.1177839 ,   1.3835081 ,  23.24742918,  53.21201742,\n",
       "       119.63922036, 108.72019315, 111.42170692,  24.65257178,\n",
       "        94.95741322,  32.78101791, 104.09199581,  31.73486585,\n",
       "        22.81574144,  45.7727699 ,  56.44219393,  91.60181372,\n",
       "        89.77552699,  31.16994997,  28.47475784, 107.198945  ,\n",
       "       107.70795401, 103.10639574,  45.01377463,  70.28065556,\n",
       "        69.7039475 ,  13.40963872,  23.27969881,  20.59324097,\n",
       "        86.5933693 ,  73.4080294 ,  91.30896835,  27.89725964,\n",
       "        24.99636158,  19.18354709, 108.8367    ,  10.26709417,\n",
       "        10.38388404,  27.27752812,  11.97114006, 106.86198142,\n",
       "        91.82181905,  73.18991126,  65.04151717,  47.08699627,\n",
       "       116.17782091,  29.47004073,  73.66564045,  48.15284215,\n",
       "       109.65343961, 102.3551367 ,   9.58580375,  13.52431737,\n",
       "        90.09806888,  67.97164458,  73.02426337,  28.55775312,\n",
       "        72.83701827,  90.98007615,  56.29520459,  37.67568496,\n",
       "        74.76254241,  57.25939545,  62.22908834,  48.93090161,\n",
       "        81.45322598, 104.21923582,  52.31795182,  83.61386783,\n",
       "        79.1853542 ,  60.75755942,  39.87254867,   4.0542611 ,\n",
       "        26.55616832,  66.64459994,  31.24785125, 106.92267843,\n",
       "        47.62883383,  81.71687729,  81.97943136,  32.19757276])"
      ]
     },
     "execution_count": 112,
     "metadata": {},
     "output_type": "execute_result"
    }
   ],
   "source": [
    "arr_clipa = 0\n",
    "arr_clipb = 120\n",
    "sd = 1000\n",
    "vloc = 40\n",
    "\n",
    "scipy.stats.truncnorm.rvs((arr_clipa - vloc)/sd, (arr_clipb - vloc)/sd, loc = 40, scale = sd, size = 100)"
   ]
  },
  {
   "cell_type": "code",
   "execution_count": 113,
   "metadata": {},
   "outputs": [],
   "source": [
    "import numpy as np"
   ]
  },
  {
   "cell_type": "code",
   "execution_count": 118,
   "metadata": {},
   "outputs": [
    {
     "data": {
      "text/plain": [
       "array([[0., 0., 0., ..., 0., 0., 0.],\n",
       "       [0., 0., 0., ..., 0., 0., 0.],\n",
       "       [0., 0., 0., ..., 0., 0., 0.],\n",
       "       ...,\n",
       "       [0., 0., 0., ..., 0., 0., 0.],\n",
       "       [0., 0., 0., ..., 0., 0., 0.],\n",
       "       [0., 0., 0., ..., 0., 0., 0.]])"
      ]
     },
     "execution_count": 118,
     "metadata": {},
     "output_type": "execute_result"
    }
   ],
   "source": [
    "size, array_length = 100, 120\n",
    "Varray, Aarray = np.zeros((size, array_length)), np.zeros((size, array_length))\n",
    "Varray"
   ]
  },
  {
   "cell_type": "code",
   "execution_count": 125,
   "metadata": {},
   "outputs": [],
   "source": [
    "vloc, aloc = 20, 20\n",
    "array_length = 120\n",
    "vvar = 1\n",
    "avar = 1\n",
    "\n",
    "from scipy.stats import truncnorm\n",
    "\n",
    "lowerbound, upperbound = ((0 - vloc) / vvar), ((array_length - vloc) / vvar)\n",
    "\n",
    "# Sample from these stimulus distributions\n",
    "Vsamples, Asamples = np.round(truncnorm.rvs(lowerbound, upperbound, loc = vloc, scale = vvar, size = size)), np.round(truncnorm.rvs(lowerbound, upperbound, loc = aloc, scale = avar, size = size))"
   ]
  },
  {
   "cell_type": "code",
   "execution_count": 132,
   "metadata": {},
   "outputs": [
    {
     "name": "stdout",
     "output_type": "stream",
     "text": [
      "[[[0. 0. 0. ... 0. 0. 0.]\n",
      "  [0. 0. 0. ... 0. 0. 0.]]\n",
      "\n",
      " [[0. 0. 0. ... 0. 0. 0.]\n",
      "  [0. 0. 0. ... 0. 0. 0.]]\n",
      "\n",
      " [[0. 0. 0. ... 0. 0. 0.]\n",
      "  [0. 0. 0. ... 0. 0. 0.]]\n",
      "\n",
      " ...\n",
      "\n",
      " [[0. 0. 0. ... 0. 0. 0.]\n",
      "  [0. 0. 0. ... 0. 0. 0.]]\n",
      "\n",
      " [[0. 0. 0. ... 0. 0. 0.]\n",
      "  [0. 0. 0. ... 0. 0. 0.]]\n",
      "\n",
      " [[0. 0. 0. ... 0. 0. 0.]\n",
      "  [0. 0. 0. ... 0. 0. 0.]]]\n"
     ]
    }
   ],
   "source": [
    "stimarray = np.zeros((size, 2, array_length))\n",
    "print(stimarray)"
   ]
  }
 ],
 "metadata": {
  "interpreter": {
   "hash": "aee8b7b246df8f9039afb4144a1f6fd8d2ca17a180786b69acc140d282b71a49"
  },
  "kernelspec": {
   "display_name": "Python 3.10.4 64-bit",
   "language": "python",
   "name": "python3"
  },
  "language_info": {
   "codemirror_mode": {
    "name": "ipython",
    "version": 3
   },
   "file_extension": ".py",
   "mimetype": "text/x-python",
   "name": "python",
   "nbconvert_exporter": "python",
   "pygments_lexer": "ipython3",
   "version": "3.10.4"
  },
  "orig_nbformat": 4
 },
 "nbformat": 4,
 "nbformat_minor": 2
}
