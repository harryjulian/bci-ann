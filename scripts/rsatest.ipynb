{
 "cells": [
  {
   "cell_type": "code",
   "execution_count": 1,
   "metadata": {},
   "outputs": [],
   "source": [
    "import numpy as np\n",
    "import rsatoolbox as rsa"
   ]
  },
  {
   "cell_type": "code",
   "execution_count": 14,
   "metadata": {},
   "outputs": [
    {
     "ename": "AttributeError",
     "evalue": "measurements must be in dimension n_obs x n_channel",
     "output_type": "error",
     "traceback": [
      "\u001b[0;31m---------------------------------------------------------------------------\u001b[0m",
      "\u001b[0;31mAttributeError\u001b[0m                            Traceback (most recent call last)",
      "\u001b[1;32m/Users/HarryJulian/Documents/bci-ann/scripts/rsatest.ipynb Cell 2'\u001b[0m in \u001b[0;36m<cell line: 2>\u001b[0;34m()\u001b[0m\n\u001b[1;32m      <a href='vscode-notebook-cell:/Users/HarryJulian/Documents/bci-ann/scripts/rsatest.ipynb#ch0000001?line=0'>1</a>\u001b[0m data \u001b[39m=\u001b[39m np\u001b[39m.\u001b[39mndarray([\u001b[39m1\u001b[39m, \u001b[39m10\u001b[39m, \u001b[39m5\u001b[39m])\n\u001b[0;32m----> <a href='vscode-notebook-cell:/Users/HarryJulian/Documents/bci-ann/scripts/rsatest.ipynb#ch0000001?line=1'>2</a>\u001b[0m visualrdm \u001b[39m=\u001b[39m rsa\u001b[39m.\u001b[39;49mdata\u001b[39m.\u001b[39;49mDataset(data)\n",
      "File \u001b[0;32m/Library/Frameworks/Python.framework/Versions/3.10/lib/python3.10/site-packages/rsatoolbox/data/dataset.py:51\u001b[0m, in \u001b[0;36mDatasetBase.__init__\u001b[0;34m(self, measurements, descriptors, obs_descriptors, channel_descriptors, check_dims)\u001b[0m\n\u001b[1;32m     <a href='file:///Library/Frameworks/Python.framework/Versions/3.10/lib/python3.10/site-packages/rsatoolbox/data/dataset.py?line=46'>47</a>\u001b[0m \u001b[39mdef\u001b[39;00m \u001b[39m__init__\u001b[39m(\u001b[39mself\u001b[39m, measurements, descriptors\u001b[39m=\u001b[39m\u001b[39mNone\u001b[39;00m,\n\u001b[1;32m     <a href='file:///Library/Frameworks/Python.framework/Versions/3.10/lib/python3.10/site-packages/rsatoolbox/data/dataset.py?line=47'>48</a>\u001b[0m              obs_descriptors\u001b[39m=\u001b[39m\u001b[39mNone\u001b[39;00m, channel_descriptors\u001b[39m=\u001b[39m\u001b[39mNone\u001b[39;00m,\n\u001b[1;32m     <a href='file:///Library/Frameworks/Python.framework/Versions/3.10/lib/python3.10/site-packages/rsatoolbox/data/dataset.py?line=48'>49</a>\u001b[0m              check_dims\u001b[39m=\u001b[39m\u001b[39mTrue\u001b[39;00m):\n\u001b[1;32m     <a href='file:///Library/Frameworks/Python.framework/Versions/3.10/lib/python3.10/site-packages/rsatoolbox/data/dataset.py?line=49'>50</a>\u001b[0m     \u001b[39mif\u001b[39;00m measurements\u001b[39m.\u001b[39mndim \u001b[39m!=\u001b[39m \u001b[39m2\u001b[39m:\n\u001b[0;32m---> <a href='file:///Library/Frameworks/Python.framework/Versions/3.10/lib/python3.10/site-packages/rsatoolbox/data/dataset.py?line=50'>51</a>\u001b[0m         \u001b[39mraise\u001b[39;00m \u001b[39mAttributeError\u001b[39;00m(\n\u001b[1;32m     <a href='file:///Library/Frameworks/Python.framework/Versions/3.10/lib/python3.10/site-packages/rsatoolbox/data/dataset.py?line=51'>52</a>\u001b[0m             \u001b[39m\"\u001b[39m\u001b[39mmeasurements must be in dimension n_obs x n_channel\u001b[39m\u001b[39m\"\u001b[39m)\n\u001b[1;32m     <a href='file:///Library/Frameworks/Python.framework/Versions/3.10/lib/python3.10/site-packages/rsatoolbox/data/dataset.py?line=52'>53</a>\u001b[0m     \u001b[39mself\u001b[39m\u001b[39m.\u001b[39mmeasurements \u001b[39m=\u001b[39m measurements\n\u001b[1;32m     <a href='file:///Library/Frameworks/Python.framework/Versions/3.10/lib/python3.10/site-packages/rsatoolbox/data/dataset.py?line=53'>54</a>\u001b[0m     \u001b[39mself\u001b[39m\u001b[39m.\u001b[39mn_obs, \u001b[39mself\u001b[39m\u001b[39m.\u001b[39mn_channel \u001b[39m=\u001b[39m \u001b[39mself\u001b[39m\u001b[39m.\u001b[39mmeasurements\u001b[39m.\u001b[39mshape\n",
      "\u001b[0;31mAttributeError\u001b[0m: measurements must be in dimension n_obs x n_channel"
     ]
    }
   ],
   "source": [
    "data = np.ndarray([1, 10, 5])\n",
    "visualrdm = rsa.data.Dataset(data)"
   ]
  },
  {
   "cell_type": "code",
   "execution_count": 13,
   "metadata": {},
   "outputs": [
    {
     "data": {
      "text/plain": [
       "array([[[-2.00000000e+000,  2.68156177e+154,  1.23516411e-322,\n",
       "          0.00000000e+000,  2.12199579e-314],\n",
       "        [ 1.16095484e-028,  8.44747281e+252,  1.06140571e+248,\n",
       "          7.12899924e+247,  5.34159097e+246],\n",
       "        [ 6.12496426e+257,  2.66470902e+233,  7.87619132e-114,\n",
       "          6.22651860e+228,  7.26248361e+199],\n",
       "        [ 1.05954113e+277,  5.95722028e+135,  4.10025306e-080,\n",
       "          2.86702361e+214,  2.91811686e+257],\n",
       "        [ 5.49046785e+170,  1.15847234e+171,  6.67279259e+135,\n",
       "          1.05995551e+189,  9.38176588e-154],\n",
       "        [ 3.59019609e+246,  2.46928476e-027,  1.05946985e+277,\n",
       "          4.54606232e+198,  7.56466522e-096],\n",
       "        [ 1.23158618e+171,  4.96900744e+151,  9.09132666e+276,\n",
       "          3.50637145e+151,  2.17914692e+102],\n",
       "        [ 9.21891619e+242,  5.03513066e+223,  6.19640460e+223,\n",
       "          1.29219317e+160,  3.16053312e+233],\n",
       "        [ 5.28561865e+180,  1.40392008e+166,  9.07654603e+223,\n",
       "          3.65582216e+233,  1.48098883e+248],\n",
       "        [ 2.91530145e-014,  4.30627437e-096,  9.80058441e+252,\n",
       "          1.23971686e+224,  3.54468601e-308]]])"
      ]
     },
     "execution_count": 13,
     "metadata": {},
     "output_type": "execute_result"
    }
   ],
   "source": [
    "possible_locations = [-24, -12, 0, 12, 24] # channel descriptors\n"
   ]
  },
  {
   "cell_type": "code",
   "execution_count": 19,
   "metadata": {},
   "outputs": [],
   "source": [
    "nChannel = 5\n",
    "nObs = 25\n",
    "rando = np.random.rand(nObs, nChannel)"
   ]
  },
  {
   "cell_type": "code",
   "execution_count": 20,
   "metadata": {},
   "outputs": [],
   "source": [
    "rdm = rsa.data.Dataset(rando)"
   ]
  },
  {
   "cell_type": "code",
   "execution_count": 21,
   "metadata": {},
   "outputs": [
    {
     "ename": "AttributeError",
     "evalue": "'Dataset' object has no attribute 'plot'",
     "output_type": "error",
     "traceback": [
      "\u001b[0;31m---------------------------------------------------------------------------\u001b[0m",
      "\u001b[0;31mAttributeError\u001b[0m                            Traceback (most recent call last)",
      "\u001b[1;32m/Users/HarryJulian/Documents/bci-ann/scripts/rsatest.ipynb Cell 6'\u001b[0m in \u001b[0;36m<cell line: 1>\u001b[0;34m()\u001b[0m\n\u001b[0;32m----> <a href='vscode-notebook-cell:/Users/HarryJulian/Documents/bci-ann/scripts/rsatest.ipynb#ch0000006?line=0'>1</a>\u001b[0m rdm\u001b[39m.\u001b[39;49mplot()\n",
      "\u001b[0;31mAttributeError\u001b[0m: 'Dataset' object has no attribute 'plot'"
     ]
    }
   ],
   "source": [
    "rdm.plot()"
   ]
  },
  {
   "cell_type": "code",
   "execution_count": null,
   "metadata": {},
   "outputs": [],
   "source": []
  }
 ],
 "metadata": {
  "interpreter": {
   "hash": "aee8b7b246df8f9039afb4144a1f6fd8d2ca17a180786b69acc140d282b71a49"
  },
  "kernelspec": {
   "display_name": "Python 3.10.4 64-bit",
   "language": "python",
   "name": "python3"
  },
  "language_info": {
   "codemirror_mode": {
    "name": "ipython",
    "version": 3
   },
   "file_extension": ".py",
   "mimetype": "text/x-python",
   "name": "python",
   "nbconvert_exporter": "python",
   "pygments_lexer": "ipython3",
   "version": "3.10.4"
  },
  "orig_nbformat": 4
 },
 "nbformat": 4,
 "nbformat_minor": 2
}
