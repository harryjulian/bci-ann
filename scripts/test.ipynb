{
 "cells": [
  {
   "cell_type": "code",
   "execution_count": 1,
   "metadata": {},
   "outputs": [],
   "source": [
    "from generatestimuli import stimGenerator\n",
    "import numpy as np\n",
    "from scipy.stats import truncnorm"
   ]
  },
  {
   "cell_type": "code",
   "execution_count": 1,
   "metadata": {},
   "outputs": [],
   "source": [
    "from generatestimuli import stimGenerator"
   ]
  },
  {
   "cell_type": "code",
   "execution_count": 2,
   "metadata": {},
   "outputs": [
    {
     "name": "stdout",
     "output_type": "stream",
     "text": [
      "Loaded stimulus generator.\n",
      "[(20.0, 20.0, 1), (20.0, 20.0, 2), (20.0, 40.0, 1), (20.0, 40.0, 2), (20.0, 60.0, 1), (20.0, 60.0, 2), (20.0, 80.0, 1), (20.0, 80.0, 2), (20.0, 100.0, 1), (20.0, 100.0, 2), (40.0, 20.0, 1), (40.0, 20.0, 2), (40.0, 40.0, 1), (40.0, 40.0, 2), (40.0, 60.0, 1), (40.0, 60.0, 2), (40.0, 80.0, 1), (40.0, 80.0, 2), (40.0, 100.0, 1), (40.0, 100.0, 2), (60.0, 20.0, 1), (60.0, 20.0, 2), (60.0, 40.0, 1), (60.0, 40.0, 2), (60.0, 60.0, 1), (60.0, 60.0, 2), (60.0, 80.0, 1), (60.0, 80.0, 2), (60.0, 100.0, 1), (60.0, 100.0, 2), (80.0, 20.0, 1), (80.0, 20.0, 2), (80.0, 40.0, 1), (80.0, 40.0, 2), (80.0, 60.0, 1), (80.0, 60.0, 2), (80.0, 80.0, 1), (80.0, 80.0, 2), (80.0, 100.0, 1), (80.0, 100.0, 2), (100.0, 20.0, 1), (100.0, 20.0, 2), (100.0, 40.0, 1), (100.0, 40.0, 2), (100.0, 60.0, 1), (100.0, 60.0, 2), (100.0, 80.0, 1), (100.0, 80.0, 2), (100.0, 100.0, 1), (100.0, 100.0, 2)]\n",
      "(20.0, 20.0, 1)\n",
      "(20.0, 20.0, 2)\n",
      "(20.0, 40.0, 1)\n",
      "(20.0, 40.0, 2)\n",
      "(20.0, 60.0, 1)\n",
      "(20.0, 60.0, 2)\n",
      "(20.0, 80.0, 1)\n",
      "(20.0, 80.0, 2)\n",
      "(20.0, 100.0, 1)\n",
      "(20.0, 100.0, 2)\n",
      "(40.0, 20.0, 1)\n",
      "(40.0, 20.0, 2)\n",
      "(40.0, 40.0, 1)\n",
      "(40.0, 40.0, 2)\n",
      "(40.0, 60.0, 1)\n",
      "(40.0, 60.0, 2)\n",
      "(40.0, 80.0, 1)\n",
      "(40.0, 80.0, 2)\n",
      "(40.0, 100.0, 1)\n",
      "(40.0, 100.0, 2)\n",
      "(60.0, 20.0, 1)\n",
      "(60.0, 20.0, 2)\n",
      "(60.0, 40.0, 1)\n",
      "(60.0, 40.0, 2)\n",
      "(60.0, 60.0, 1)\n",
      "(60.0, 60.0, 2)\n",
      "(60.0, 80.0, 1)\n",
      "(60.0, 80.0, 2)\n",
      "(60.0, 100.0, 1)\n",
      "(60.0, 100.0, 2)\n",
      "(80.0, 20.0, 1)\n",
      "(80.0, 20.0, 2)\n",
      "(80.0, 40.0, 1)\n",
      "(80.0, 40.0, 2)\n",
      "(80.0, 60.0, 1)\n",
      "(80.0, 60.0, 2)\n",
      "(80.0, 80.0, 1)\n",
      "(80.0, 80.0, 2)\n",
      "(80.0, 100.0, 1)\n",
      "(80.0, 100.0, 2)\n",
      "(100.0, 20.0, 1)\n",
      "(100.0, 20.0, 2)\n",
      "(100.0, 40.0, 1)\n",
      "(100.0, 40.0, 2)\n",
      "(100.0, 60.0, 1)\n",
      "(100.0, 60.0, 2)\n",
      "(100.0, 80.0, 1)\n",
      "(100.0, 80.0, 2)\n",
      "(100.0, 100.0, 1)\n",
      "(100.0, 100.0, 2)\n"
     ]
    },
    {
     "ename": "AttributeError",
     "evalue": "module 'pickle' has no attribute 'open'",
     "output_type": "error",
     "traceback": [
      "\u001b[0;31m---------------------------------------------------------------------------\u001b[0m",
      "\u001b[0;31mAttributeError\u001b[0m                            Traceback (most recent call last)",
      "\u001b[1;32m/Users/HarryJulian/Documents/bci-ann/scripts/test.ipynb Cell 3'\u001b[0m in \u001b[0;36m<cell line: 2>\u001b[0;34m()\u001b[0m\n\u001b[1;32m      <a href='vscode-notebook-cell:/Users/HarryJulian/Documents/bci-ann/scripts/test.ipynb#ch0000003?line=0'>1</a>\u001b[0m getnstim \u001b[39m=\u001b[39m stimGenerator(\u001b[39m100\u001b[39m, \u001b[39m2\u001b[39m, \u001b[39m5\u001b[39m, [\u001b[39m1\u001b[39m,\u001b[39m2\u001b[39m])\n\u001b[0;32m----> <a href='vscode-notebook-cell:/Users/HarryJulian/Documents/bci-ann/scripts/test.ipynb#ch0000003?line=1'>2</a>\u001b[0m getnstim\u001b[39m.\u001b[39;49mgenerate(\u001b[39m1000\u001b[39;49m, \u001b[39m\"\u001b[39;49m\u001b[39mtest\u001b[39;49m\u001b[39m\"\u001b[39;49m, fext \u001b[39m=\u001b[39;49m \u001b[39m'\u001b[39;49m\u001b[39m'\u001b[39;49m)\n",
      "File \u001b[0;32m~/Documents/bci-ann/scripts/generatestimuli.py:123\u001b[0m, in \u001b[0;36mstimGenerator.generate\u001b[0;34m(self, size, id, fext, save)\u001b[0m\n\u001b[1;32m    <a href='file:///Users/HarryJulian/Documents/bci-ann/scripts/generatestimuli.py?line=120'>121</a>\u001b[0m \u001b[39m# Save as pkl if True\u001b[39;00m\n\u001b[1;32m    <a href='file:///Users/HarryJulian/Documents/bci-ann/scripts/generatestimuli.py?line=121'>122</a>\u001b[0m fname \u001b[39m=\u001b[39m fext \u001b[39m+\u001b[39m \u001b[39m'\u001b[39m\u001b[39m.pkl\u001b[39m\u001b[39m'\u001b[39m\n\u001b[0;32m--> <a href='file:///Users/HarryJulian/Documents/bci-ann/scripts/generatestimuli.py?line=122'>123</a>\u001b[0m filetowrite \u001b[39m=\u001b[39m pkl\u001b[39m.\u001b[39;49mopen(fname, \u001b[39m'\u001b[39m\u001b[39mrb\u001b[39m\u001b[39m'\u001b[39m)\n\u001b[1;32m    <a href='file:///Users/HarryJulian/Documents/bci-ann/scripts/generatestimuli.py?line=123'>124</a>\u001b[0m pkl\u001b[39m.\u001b[39mdump(dataset, filetowrite)\n\u001b[1;32m    <a href='file:///Users/HarryJulian/Documents/bci-ann/scripts/generatestimuli.py?line=125'>126</a>\u001b[0m \u001b[39mreturn\u001b[39;00m dataset\n",
      "\u001b[0;31mAttributeError\u001b[0m: module 'pickle' has no attribute 'open'"
     ]
    }
   ],
   "source": [
    "getnstim = stimGenerator(100, 2, 5, [1,2])\n",
    "getnstim.generate(1000, \"test\", fext = '')"
   ]
  },
  {
   "cell_type": "code",
   "execution_count": 1,
   "metadata": {},
   "outputs": [
    {
     "name": "stdout",
     "output_type": "stream",
     "text": [
      "19.94 19.17\n",
      "here [19, 20, 21] [1, 2, 3]\n",
      "here [19, 20, 21] [24, 25, 26]\n",
      "here [20, 21, 22] [14, 15, 16]\n",
      "here [18, 19, 20] [13, 14, 15]\n",
      "here [18, 19, 20] [18, 19, 20]\n",
      "here [18, 19, 20] [15, 16, 17]\n",
      "here [17, 18, 19] [16, 17, 18]\n",
      "here [18, 19, 20] [21, 22, 23]\n",
      "here [18, 19, 20] [18, 19, 20]\n",
      "here [17, 18, 19] [16, 17, 18]\n",
      "here [18, 19, 20] [10, 11, 12]\n",
      "here [19, 20, 21] [29, 30, 31]\n",
      "here [18, 19, 20] [23, 24, 25]\n",
      "here [19, 20, 21] [1, 2, 3]\n",
      "here [18, 19, 20] [0, 1, 2]\n",
      "here [19, 20, 21] [14, 15, 16]\n",
      "here [18, 19, 20] [20, 21, 22]\n",
      "here [18, 19, 20] [28, 29, 30]\n",
      "here [21, 22, 23] [21, 22, 23]\n",
      "here [18, 19, 20] [20, 21, 22]\n",
      "here [21, 22, 23] [11, 12, 13]\n",
      "here [18, 19, 20] [2, 3, 4]\n",
      "here [18, 19, 20] [10, 11, 12]\n",
      "here [19, 20, 21] [24, 25, 26]\n",
      "here [19, 20, 21] [15, 16, 17]\n",
      "here [21, 22, 23] [25, 26, 27]\n",
      "here [20, 21, 22] [21, 22, 23]\n",
      "here [19, 20, 21] [29, 30, 31]\n",
      "here [20, 21, 22] [22, 23, 24]\n",
      "here [19, 20, 21] [12, 13, 14]\n",
      "here [18, 19, 20] [15, 16, 17]\n",
      "here [20, 21, 22] [9, 10, 11]\n",
      "here [19, 20, 21] [28, 29, 30]\n",
      "here [20, 21, 22] [26, 27, 28]\n",
      "here [20, 21, 22] [21, 22, 23]\n",
      "here [19, 20, 21] [25, 26, 27]\n",
      "here [18, 19, 20] [13, 14, 15]\n",
      "here [21, 22, 23] [10, 11, 12]\n",
      "here [19, 20, 21] [7, 8, 9]\n",
      "here [16, 17, 18] [11, 12, 13]\n",
      "here [19, 20, 21] [17, 18, 19]\n",
      "here [18, 19, 20] [17, 18, 19]\n",
      "here [18, 19, 20] [32, 33, 34]\n",
      "here [20, 21, 22] [23, 24, 25]\n",
      "here [19, 20, 21] [18, 19, 20]\n",
      "here [19, 20, 21] [30, 31, 32]\n",
      "here [22, 23, 24] [22, 23, 24]\n",
      "here [19, 20, 21] [6, 7, 8]\n",
      "here [20, 21, 22] [27, 28, 29]\n",
      "here [20, 21, 22] [15, 16, 17]\n",
      "here [20, 21, 22] [22, 23, 24]\n",
      "here [21, 22, 23] [22, 23, 24]\n",
      "here [18, 19, 20] [8, 9, 10]\n",
      "here [18, 19, 20] [17, 18, 19]\n",
      "here [20, 21, 22] [2, 3, 4]\n",
      "here [20, 21, 22] [10, 11, 12]\n",
      "here [21, 22, 23] [15, 16, 17]\n",
      "here [19, 20, 21] [11, 12, 13]\n",
      "here [20, 21, 22] [21, 22, 23]\n",
      "here [19, 20, 21] [7, 8, 9]\n",
      "here [19, 20, 21] [24, 25, 26]\n",
      "here [18, 19, 20] [22, 23, 24]\n",
      "here [20, 21, 22] [16, 17, 18]\n",
      "here [18, 19, 20] [15, 16, 17]\n",
      "here [18, 19, 20] [18, 19, 20]\n",
      "here [18, 19, 20] [10, 11, 12]\n",
      "here [18, 19, 20] [8, 9, 10]\n",
      "here [19, 20, 21] [31, 32, 33]\n",
      "here [18, 19, 20] [19, 20, 21]\n",
      "here [18, 19, 20] [10, 11, 12]\n",
      "here [20, 21, 22] [25, 26, 27]\n",
      "here [19, 20, 21] [11, 12, 13]\n",
      "here [19, 20, 21] [28, 29, 30]\n",
      "here [19, 20, 21] [31, 32, 33]\n",
      "here [20, 21, 22] [16, 17, 18]\n",
      "here [20, 21, 22] [20, 21, 22]\n",
      "here [17, 18, 19] [7, 8, 9]\n",
      "here [20, 21, 22] [20, 21, 22]\n",
      "here [19, 20, 21] [31, 32, 33]\n",
      "here [20, 21, 22] [19, 20, 21]\n",
      "here [18, 19, 20] [18, 19, 20]\n",
      "here [19, 20, 21] [20, 21, 22]\n",
      "here [19, 20, 21] [16, 17, 18]\n",
      "here [19, 20, 21] [23, 24, 25]\n",
      "here [19, 20, 21] [24, 25, 26]\n",
      "here [18, 19, 20] [10, 11, 12]\n",
      "here [18, 19, 20] [20, 21, 22]\n",
      "here [19, 20, 21] [12, 13, 14]\n",
      "here [20, 21, 22] [27, 28, 29]\n",
      "here [20, 21, 22] [18, 19, 20]\n",
      "here [17, 18, 19] [29, 30, 31]\n",
      "here [19, 20, 21] [16, 17, 18]\n",
      "here [18, 19, 20] [24, 25, 26]\n",
      "here [17, 18, 19] [22, 23, 24]\n",
      "here [18, 19, 20] [14, 15, 16]\n",
      "here [19, 20, 21] [25, 26, 27]\n",
      "here [20, 21, 22] [27, 28, 29]\n",
      "here [20, 21, 22] [35, 36, 37]\n",
      "here [19, 20, 21] [26, 27, 28]\n"
     ]
    },
    {
     "data": {
      "text/plain": [
       "array([[0., 0., 0., 0., 0., 0., 0., 0., 0., 0., 0., 0., 0., 0., 0., 0.,\n",
       "        0., 0., 1., 1., 1., 0., 0., 0., 0., 0., 0., 0., 0., 0., 0., 0.,\n",
       "        0., 0., 0., 0., 0., 0., 0., 0., 0., 0., 0., 0., 0., 0., 0., 0.,\n",
       "        0., 0., 0., 0., 0., 0., 0., 0., 0., 0., 0., 0., 0., 0., 0., 0.,\n",
       "        0., 0., 0., 0., 0., 0., 0., 0., 0., 0., 0., 0., 0., 0., 0., 0.,\n",
       "        0., 0., 0., 0., 0., 0., 0., 0., 0., 0., 0., 0., 0., 0., 0., 0.,\n",
       "        0., 0., 0., 0.],\n",
       "       [1., 1., 1., 0., 0., 0., 0., 0., 0., 0., 0., 0., 0., 0., 0., 0.,\n",
       "        0., 0., 0., 0., 0., 0., 0., 0., 0., 0., 0., 0., 0., 0., 0., 0.,\n",
       "        0., 0., 0., 0., 0., 0., 0., 0., 0., 0., 0., 0., 0., 0., 0., 0.,\n",
       "        0., 0., 0., 0., 0., 0., 0., 0., 0., 0., 0., 0., 0., 0., 0., 0.,\n",
       "        0., 0., 0., 0., 0., 0., 0., 0., 0., 0., 0., 0., 0., 0., 0., 0.,\n",
       "        0., 0., 0., 0., 0., 0., 0., 0., 0., 0., 0., 0., 0., 0., 0., 0.,\n",
       "        0., 0., 0., 0.]])"
      ]
     },
     "execution_count": 1,
     "metadata": {},
     "output_type": "execute_result"
    }
   ],
   "source": [
    "from generatestimuli import trialgen\n",
    "trialgen(100, 1, 100, 20, 20, 1, 8)[0]"
   ]
  },
  {
   "cell_type": "code",
   "execution_count": 25,
   "metadata": {},
   "outputs": [],
   "source": [
    "arr = np.zeros([10000, 2, 120])"
   ]
  },
  {
   "cell_type": "code",
   "execution_count": 53,
   "metadata": {},
   "outputs": [
    {
     "data": {
      "text/plain": [
       "array([[ 1.],\n",
       "       [-0.],\n",
       "       [-2.],\n",
       "       ...,\n",
       "       [-0.],\n",
       "       [ 0.],\n",
       "       [ 1.]])"
      ]
     },
     "execution_count": 53,
     "metadata": {},
     "output_type": "execute_result"
    }
   ],
   "source": [
    "import numpy as np\n",
    "var = 1\n",
    "vloc = 20\n",
    "N = 10000\n",
    "var * np.random.randn(N,1)"
   ]
  },
  {
   "cell_type": "code",
   "execution_count": 8,
   "metadata": {},
   "outputs": [],
   "source": [
    "array_length, n_locations = 100, 5\n",
    "bin_center = array_length / n_locations\n",
    "loc_list = [i*bin_center+bin_center for i in range(n_locations)]\n",
    "Vlist, Alist = loc_list, loc_list\n"
   ]
  },
  {
   "cell_type": "code",
   "execution_count": 9,
   "metadata": {},
   "outputs": [
    {
     "data": {
      "text/plain": [
       "[20.0, 40.0, 60.0, 80.0, 100.0]"
      ]
     },
     "execution_count": 9,
     "metadata": {},
     "output_type": "execute_result"
    }
   ],
   "source": [
    "Vlist"
   ]
  }
 ],
 "metadata": {
  "interpreter": {
   "hash": "aee8b7b246df8f9039afb4144a1f6fd8d2ca17a180786b69acc140d282b71a49"
  },
  "kernelspec": {
   "display_name": "Python 3.10.4 64-bit",
   "language": "python",
   "name": "python3"
  },
  "language_info": {
   "codemirror_mode": {
    "name": "ipython",
    "version": 3
   },
   "file_extension": ".py",
   "mimetype": "text/x-python",
   "name": "python",
   "nbconvert_exporter": "python",
   "pygments_lexer": "ipython3",
   "version": "3.10.4"
  },
  "orig_nbformat": 4
 },
 "nbformat": 4,
 "nbformat_minor": 2
}
